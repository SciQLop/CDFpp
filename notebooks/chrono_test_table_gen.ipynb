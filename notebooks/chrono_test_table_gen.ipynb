{
 "cells": [
  {
   "cell_type": "code",
   "execution_count": 1,
   "metadata": {},
   "outputs": [],
   "source": [
    "from spacepy.pycdf import lib as cdflib\n",
    "from datetime import datetime, timedelta\n",
    "import pytz\n",
    "import os\n",
    "os.environ[\"TZ\"]=\"UTC\""
   ]
  },
  {
   "cell_type": "code",
   "execution_count": 2,
   "metadata": {},
   "outputs": [],
   "source": [
    "start_time = datetime(1950,1,1, tzinfo=pytz.UTC)\n",
    "def entry(dt):\n",
    "    tt2000=cdflib.datetime_to_tt2000(dt)\n",
    "    epoch=cdflib.datetime_to_epoch(dt)\n",
    "    epoch16=cdflib.datetime_to_epoch16(dt)\n",
    "    entry = f\"\"\"\n",
    "    //{dt}\n",
    "    test_entry{{ {int(dt.timestamp())}, {{ {int(tt2000)} }}, {{ {epoch} }}, {{ {epoch16[0]}, {epoch16[1]} }} }},\n",
    "\"\"\"\n",
    "    entry\n",
    "    return entry"
   ]
  },
  {
   "cell_type": "code",
   "execution_count": 3,
   "metadata": {},
   "outputs": [],
   "source": [
    "t = start_time\n",
    "table = \"\"\"\n",
    "\n",
    "#include \"chrono/cdf-chrono.hpp\"\n",
    "#include <array>\n",
    "#include <cstdint>\n",
    "\n",
    "struct test_entry\n",
    "{\n",
    "    int64_t        unix_epoch;\n",
    "    cdf::tt2000_t  tt2000_epoch;\n",
    "    cdf::epoch     epoch_epoch;\n",
    "    cdf::epoch16   epoch16_epoch;\n",
    "    \n",
    "};\n",
    "\n",
    "test_entry test_values[] = {\n",
    "\"\"\"\n",
    "while t < datetime(2100,1,1, tzinfo=pytz.UTC):\n",
    "    table += entry(t)\n",
    "    t+=timedelta(days=100)\n",
    "    \n",
    "for y in range(1972,2020):\n",
    "    for m in [1,7]:\n",
    "        for dt in range(-2,2):\n",
    "            table += entry(datetime(y,m,1, tzinfo=pytz.UTC)+timedelta(seconds=dt))\n",
    "    \n",
    "table += \"};\""
   ]
  },
  {
   "cell_type": "code",
   "execution_count": 4,
   "metadata": {},
   "outputs": [],
   "source": [
    "with open(\"../tests/chrono/test_values.hpp\", \"w\") as f:\n",
    "    f.write(table)"
   ]
  },
  {
   "cell_type": "code",
   "execution_count": null,
   "metadata": {},
   "outputs": [],
   "source": []
  }
 ],
 "metadata": {
  "kernelspec": {
   "display_name": "Python 3",
   "language": "python",
   "name": "python3"
  },
  "language_info": {
   "codemirror_mode": {
    "name": "ipython",
    "version": 3
   },
   "file_extension": ".py",
   "mimetype": "text/x-python",
   "name": "python",
   "nbconvert_exporter": "python",
   "pygments_lexer": "ipython3",
   "version": "3.10.2"
  }
 },
 "nbformat": 4,
 "nbformat_minor": 4
}
