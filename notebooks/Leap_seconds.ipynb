{
 "cells": [
  {
   "cell_type": "code",
   "execution_count": 1,
   "metadata": {
    "ExecuteTime": {
     "end_time": "2020-02-26T14:55:19.079273Z",
     "start_time": "2020-02-26T14:55:18.594531Z"
    }
   },
   "outputs": [],
   "source": [
    "import pandas as pds\n",
    "from astropy.time import Time\n",
    "from datetime import timedelta"
   ]
  },
  {
   "cell_type": "markdown",
   "metadata": {},
   "source": [
    "# Get official leap seconds list from International Time Bureau"
   ]
  },
  {
   "cell_type": "code",
   "execution_count": 2,
   "metadata": {
    "ExecuteTime": {
     "end_time": "2020-02-26T14:55:23.265761Z",
     "start_time": "2020-02-26T14:55:21.270744Z"
    }
   },
   "outputs": [],
   "source": [
    "leap_seconds = pds.read_csv(\"https://www.ietf.org/timezones/data/leap-seconds.list\", comment=\"#\", sep='\\t', names=[\"epoch\",\"offset\"], index_col=False) "
   ]
  },
  {
   "cell_type": "markdown",
   "metadata": {},
   "source": [
    "# Print leap seconds list "
   ]
  },
  {
   "cell_type": "code",
   "execution_count": 3,
   "metadata": {
    "ExecuteTime": {
     "end_time": "2020-02-26T14:55:23.478515Z",
     "start_time": "2020-02-26T14:55:23.275264Z"
    }
   },
   "outputs": [
    {
     "name": "stdout",
     "output_type": "stream",
     "text": [
      "1972-01-01 00:00:00.000\n",
      "1972-07-01 00:00:00.000\n",
      "1973-01-01 00:00:00.000\n",
      "1974-01-01 00:00:00.000\n",
      "1975-01-01 00:00:00.000\n",
      "1976-01-01 00:00:00.000\n",
      "1977-01-01 00:00:00.000\n",
      "1978-01-01 00:00:00.000\n",
      "1979-01-01 00:00:00.000\n",
      "1980-01-01 00:00:00.000\n",
      "1981-07-01 00:00:00.000\n",
      "1982-07-01 00:00:00.000\n",
      "1983-07-01 00:00:00.000\n",
      "1985-07-01 00:00:00.000\n",
      "1988-01-01 00:00:00.000\n",
      "1990-01-01 00:00:00.000\n",
      "1991-01-01 00:00:00.000\n",
      "1992-07-01 00:00:00.000\n",
      "1993-07-01 00:00:00.000\n",
      "1994-07-01 00:00:00.000\n",
      "1996-01-01 00:00:00.000\n",
      "1997-07-01 00:00:00.000\n",
      "1999-01-01 00:00:00.000\n",
      "2006-01-01 00:00:00.000\n",
      "2009-01-01 00:00:00.000\n",
      "2012-07-01 00:00:00.000\n",
      "2015-07-01 00:00:00.000\n",
      "2017-01-01 00:00:00.000\n"
     ]
    },
    {
     "name": "stderr",
     "output_type": "stream",
     "text": [
      "WARNING: ErfaWarning: ERFA function \"dtf2d\" yielded 1 of \"dubious year (Note 6)\" [astropy._erfa.core]\n",
      "WARNING: ErfaWarning: ERFA function \"utctai\" yielded 1 of \"dubious year (Note 3)\" [astropy._erfa.core]\n"
     ]
    }
   ],
   "source": [
    "for sec in leap_seconds.values: \n",
    "    print(Time(\"1900-01-01\") + timedelta(seconds=float(sec[0]+sec[1]))) "
   ]
  },
  {
   "cell_type": "markdown",
   "metadata": {},
   "source": [
    "# generate C++ code for CDF++ lib"
   ]
  },
  {
   "cell_type": "code",
   "execution_count": 6,
   "metadata": {},
   "outputs": [
    {
     "name": "stdout",
     "output_type": "stream",
     "text": [
      "constexpr std::array leap_seconds_J2000 = \n",
      "{\n",
      "    std::pair{ duration_cast<seconds>( (sys_days { 1972_y / 01 / 01 } + 0h ) - _J2000).count() , 10 - 32 },\n",
      "    std::pair{ duration_cast<seconds>( (sys_days { 1972_y / 07 / 01 } + 0h ) - _J2000).count() , 11 - 32 },\n",
      "    std::pair{ duration_cast<seconds>( (sys_days { 1973_y / 01 / 01 } + 0h ) - _J2000).count() , 12 - 32 },\n",
      "    std::pair{ duration_cast<seconds>( (sys_days { 1974_y / 01 / 01 } + 0h ) - _J2000).count() , 13 - 32 },\n",
      "    std::pair{ duration_cast<seconds>( (sys_days { 1975_y / 01 / 01 } + 0h ) - _J2000).count() , 14 - 32 },\n",
      "    std::pair{ duration_cast<seconds>( (sys_days { 1976_y / 01 / 01 } + 0h ) - _J2000).count() , 15 - 32 },\n",
      "    std::pair{ duration_cast<seconds>( (sys_days { 1977_y / 01 / 01 } + 0h ) - _J2000).count() , 16 - 32 },\n",
      "    std::pair{ duration_cast<seconds>( (sys_days { 1978_y / 01 / 01 } + 0h ) - _J2000).count() , 17 - 32 },\n",
      "    std::pair{ duration_cast<seconds>( (sys_days { 1979_y / 01 / 01 } + 0h ) - _J2000).count() , 18 - 32 },\n",
      "    std::pair{ duration_cast<seconds>( (sys_days { 1980_y / 01 / 01 } + 0h ) - _J2000).count() , 19 - 32 },\n",
      "    std::pair{ duration_cast<seconds>( (sys_days { 1981_y / 07 / 01 } + 0h ) - _J2000).count() , 20 - 32 },\n",
      "    std::pair{ duration_cast<seconds>( (sys_days { 1982_y / 07 / 01 } + 0h ) - _J2000).count() , 21 - 32 },\n",
      "    std::pair{ duration_cast<seconds>( (sys_days { 1983_y / 07 / 01 } + 0h ) - _J2000).count() , 22 - 32 },\n",
      "    std::pair{ duration_cast<seconds>( (sys_days { 1985_y / 07 / 01 } + 0h ) - _J2000).count() , 23 - 32 },\n",
      "    std::pair{ duration_cast<seconds>( (sys_days { 1988_y / 01 / 01 } + 0h ) - _J2000).count() , 24 - 32 },\n",
      "    std::pair{ duration_cast<seconds>( (sys_days { 1990_y / 01 / 01 } + 0h ) - _J2000).count() , 25 - 32 },\n",
      "    std::pair{ duration_cast<seconds>( (sys_days { 1991_y / 01 / 01 } + 0h ) - _J2000).count() , 26 - 32 },\n",
      "    std::pair{ duration_cast<seconds>( (sys_days { 1992_y / 07 / 01 } + 0h ) - _J2000).count() , 27 - 32 },\n",
      "    std::pair{ duration_cast<seconds>( (sys_days { 1993_y / 07 / 01 } + 0h ) - _J2000).count() , 28 - 32 },\n",
      "    std::pair{ duration_cast<seconds>( (sys_days { 1994_y / 07 / 01 } + 0h ) - _J2000).count() , 29 - 32 },\n",
      "    std::pair{ duration_cast<seconds>( (sys_days { 1996_y / 01 / 01 } + 0h ) - _J2000).count() , 30 - 32 },\n",
      "    std::pair{ duration_cast<seconds>( (sys_days { 1997_y / 07 / 01 } + 0h ) - _J2000).count() , 31 - 32 },\n",
      "    std::pair{ duration_cast<seconds>( (sys_days { 1999_y / 01 / 01 } + 0h ) - _J2000).count() , 32 - 32 },\n",
      "    std::pair{ duration_cast<seconds>( (sys_days { 2006_y / 01 / 01 } + 0h ) - _J2000).count() , 33 - 32 },\n",
      "    std::pair{ duration_cast<seconds>( (sys_days { 2009_y / 01 / 01 } + 0h ) - _J2000).count() , 34 - 32 },\n",
      "    std::pair{ duration_cast<seconds>( (sys_days { 2012_y / 07 / 01 } + 0h ) - _J2000).count() , 35 - 32 },\n",
      "    std::pair{ duration_cast<seconds>( (sys_days { 2015_y / 07 / 01 } + 0h ) - _J2000).count() , 36 - 32 },\n",
      "    std::pair{ duration_cast<seconds>( (sys_days { 2017_y / 01 / 01 } + 0h ) - _J2000).count() , 37 - 32 },\n",
      "};\n"
     ]
    }
   ],
   "source": [
    "print(\"\"\"constexpr std::array leap_seconds_J2000 = \n",
    "{\"\"\")\n",
    "for sec in leap_seconds.values: \n",
    "    date = str(Time(\"1900-01-01\") + timedelta(seconds=float(sec[0]+sec[1]))).split()[0].split('-')\n",
    "    print(f\"    std::pair{{ duration_cast<seconds>( (sys_days {{ {date[0]}_y / {date[1]} / {date[2]} }} + 0h ) - _J2000).count() , {sec[1]} - 32 }},\") \n",
    "print(\"\"\"};\"\"\")\n"
   ]
  },
  {
   "cell_type": "code",
   "execution_count": 5,
   "metadata": {
    "ExecuteTime": {
     "end_time": "2020-02-26T16:39:04.005371Z",
     "start_time": "2020-02-26T16:39:03.980576Z"
    }
   },
   "outputs": [
    {
     "name": "stdout",
     "output_type": "stream",
     "text": [
      "constexpr std::array leap_seconds_J2000_reverse = \n",
      "{\n",
      "    std::pair{ duration_cast<seconds>( (sys_days { 1972_y / 01 / 01 } + 0h ) - _J2000).count() + 10 - 32 , 10 - 32 },\n",
      "    std::pair{ duration_cast<seconds>( (sys_days { 1972_y / 07 / 01 } + 0h ) - _J2000).count() + 11 - 32 , 11 - 32 },\n",
      "    std::pair{ duration_cast<seconds>( (sys_days { 1973_y / 01 / 01 } + 0h ) - _J2000).count() + 12 - 32 , 12 - 32 },\n",
      "    std::pair{ duration_cast<seconds>( (sys_days { 1974_y / 01 / 01 } + 0h ) - _J2000).count() + 13 - 32 , 13 - 32 },\n",
      "    std::pair{ duration_cast<seconds>( (sys_days { 1975_y / 01 / 01 } + 0h ) - _J2000).count() + 14 - 32 , 14 - 32 },\n",
      "    std::pair{ duration_cast<seconds>( (sys_days { 1976_y / 01 / 01 } + 0h ) - _J2000).count() + 15 - 32 , 15 - 32 },\n",
      "    std::pair{ duration_cast<seconds>( (sys_days { 1977_y / 01 / 01 } + 0h ) - _J2000).count() + 16 - 32 , 16 - 32 },\n",
      "    std::pair{ duration_cast<seconds>( (sys_days { 1978_y / 01 / 01 } + 0h ) - _J2000).count() + 17 - 32 , 17 - 32 },\n",
      "    std::pair{ duration_cast<seconds>( (sys_days { 1979_y / 01 / 01 } + 0h ) - _J2000).count() + 18 - 32 , 18 - 32 },\n",
      "    std::pair{ duration_cast<seconds>( (sys_days { 1980_y / 01 / 01 } + 0h ) - _J2000).count() + 19 - 32 , 19 - 32 },\n",
      "    std::pair{ duration_cast<seconds>( (sys_days { 1981_y / 07 / 01 } + 0h ) - _J2000).count() + 20 - 32 , 20 - 32 },\n",
      "    std::pair{ duration_cast<seconds>( (sys_days { 1982_y / 07 / 01 } + 0h ) - _J2000).count() + 21 - 32 , 21 - 32 },\n",
      "    std::pair{ duration_cast<seconds>( (sys_days { 1983_y / 07 / 01 } + 0h ) - _J2000).count() + 22 - 32 , 22 - 32 },\n",
      "    std::pair{ duration_cast<seconds>( (sys_days { 1985_y / 07 / 01 } + 0h ) - _J2000).count() + 23 - 32 , 23 - 32 },\n",
      "    std::pair{ duration_cast<seconds>( (sys_days { 1988_y / 01 / 01 } + 0h ) - _J2000).count() + 24 - 32 , 24 - 32 },\n",
      "    std::pair{ duration_cast<seconds>( (sys_days { 1990_y / 01 / 01 } + 0h ) - _J2000).count() + 25 - 32 , 25 - 32 },\n",
      "    std::pair{ duration_cast<seconds>( (sys_days { 1991_y / 01 / 01 } + 0h ) - _J2000).count() + 26 - 32 , 26 - 32 },\n",
      "    std::pair{ duration_cast<seconds>( (sys_days { 1992_y / 07 / 01 } + 0h ) - _J2000).count() + 27 - 32 , 27 - 32 },\n",
      "    std::pair{ duration_cast<seconds>( (sys_days { 1993_y / 07 / 01 } + 0h ) - _J2000).count() + 28 - 32 , 28 - 32 },\n",
      "    std::pair{ duration_cast<seconds>( (sys_days { 1994_y / 07 / 01 } + 0h ) - _J2000).count() + 29 - 32 , 29 - 32 },\n",
      "    std::pair{ duration_cast<seconds>( (sys_days { 1996_y / 01 / 01 } + 0h ) - _J2000).count() + 30 - 32 , 30 - 32 },\n",
      "    std::pair{ duration_cast<seconds>( (sys_days { 1997_y / 07 / 01 } + 0h ) - _J2000).count() + 31 - 32 , 31 - 32 },\n",
      "    std::pair{ duration_cast<seconds>( (sys_days { 1999_y / 01 / 01 } + 0h ) - _J2000).count() + 32 - 32 , 32 - 32 },\n",
      "    std::pair{ duration_cast<seconds>( (sys_days { 2006_y / 01 / 01 } + 0h ) - _J2000).count() + 33 - 32 , 33 - 32 },\n",
      "    std::pair{ duration_cast<seconds>( (sys_days { 2009_y / 01 / 01 } + 0h ) - _J2000).count() + 34 - 32 , 34 - 32 },\n",
      "    std::pair{ duration_cast<seconds>( (sys_days { 2012_y / 07 / 01 } + 0h ) - _J2000).count() + 35 - 32 , 35 - 32 },\n",
      "    std::pair{ duration_cast<seconds>( (sys_days { 2015_y / 07 / 01 } + 0h ) - _J2000).count() + 36 - 32 , 36 - 32 },\n",
      "    std::pair{ duration_cast<seconds>( (sys_days { 2017_y / 01 / 01 } + 0h ) - _J2000).count() + 37 - 32 , 37 - 32 },\n",
      "};\n"
     ]
    }
   ],
   "source": [
    "print(\"\"\"constexpr std::array leap_seconds_J2000_reverse = \n",
    "{\"\"\")\n",
    "for sec in leap_seconds.values: \n",
    "    date = str(Time(\"1900-01-01\") + timedelta(seconds=float(sec[0]+sec[1]))).split()[0].split('-')\n",
    "    print(f\"    std::pair{{ duration_cast<seconds>( (sys_days {{ {date[0]}_y / {date[1]} / {date[2]} }} + 0h ) - _J2000).count() + {sec[1]} - 32 , {sec[1]} - 32 }},\") \n",
    "print(\"\"\"};\"\"\")\n"
   ]
  }
 ],
 "metadata": {
  "kernelspec": {
   "display_name": "Python 3",
   "language": "python",
   "name": "python3"
  },
  "language_info": {
   "codemirror_mode": {
    "name": "ipython",
    "version": 3
   },
   "file_extension": ".py",
   "mimetype": "text/x-python",
   "name": "python",
   "nbconvert_exporter": "python",
   "pygments_lexer": "ipython3",
   "version": "3.8.2rc2"
  },
  "toc": {
   "base_numbering": 1,
   "nav_menu": {},
   "number_sections": true,
   "sideBar": true,
   "skip_h1_title": false,
   "title_cell": "Table of Contents",
   "title_sidebar": "Contents",
   "toc_cell": false,
   "toc_position": {},
   "toc_section_display": true,
   "toc_window_display": false
  },
  "varInspector": {
   "cols": {
    "lenName": 16,
    "lenType": 16,
    "lenVar": 40
   },
   "kernels_config": {
    "python": {
     "delete_cmd_postfix": "",
     "delete_cmd_prefix": "del ",
     "library": "var_list.py",
     "varRefreshCmd": "print(var_dic_list())"
    },
    "r": {
     "delete_cmd_postfix": ") ",
     "delete_cmd_prefix": "rm(",
     "library": "var_list.r",
     "varRefreshCmd": "cat(var_dic_list()) "
    }
   },
   "types_to_exclude": [
    "module",
    "function",
    "builtin_function_or_method",
    "instance",
    "_Feature"
   ],
   "window_display": false
  }
 },
 "nbformat": 4,
 "nbformat_minor": 2
}
