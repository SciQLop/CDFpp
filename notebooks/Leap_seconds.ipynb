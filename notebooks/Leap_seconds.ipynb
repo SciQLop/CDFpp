{
 "cells": [
  {
   "cell_type": "code",
   "execution_count": 1,
   "metadata": {},
   "outputs": [],
   "source": [
    "import re\n",
    "import requests\n",
    "from datetime import datetime, timedelta\n",
    "from dateutil import parser\n",
    "import pytz"
   ]
  },
  {
   "cell_type": "code",
   "execution_count": 2,
   "metadata": {},
   "outputs": [
    {
     "name": "stdout",
     "output_type": "stream",
     "text": [
      "2272060800\t10\t# 1 Jan 1972\n",
      "2287785600\t11\t# 1 Jul 1972\n",
      "2303683200\t12\t# 1 Jan 1973\n",
      "2335219200\t13\t# 1 Jan 1974\n",
      "2366755200\t14\t# 1 Jan 1975\n",
      "2398291200\t15\t# 1 Jan 1976\n",
      "2429913600\t16\t# 1 Jan 1977\n",
      "2461449600\t17\t# 1 Jan 1978\n",
      "2492985600\t18\t# 1 Jan 1979\n",
      "2524521600\t19\t# 1 Jan 1980\n",
      "2571782400\t20\t# 1 Jul 1981\n",
      "2603318400\t21\t# 1 Jul 1982\n",
      "2634854400\t22\t# 1 Jul 1983\n",
      "2698012800\t23\t# 1 Jul 1985\n",
      "2776982400\t24\t# 1 Jan 1988\n",
      "2840140800\t25\t# 1 Jan 1990\n",
      "2871676800\t26\t# 1 Jan 1991\n",
      "2918937600\t27\t# 1 Jul 1992\n",
      "2950473600\t28\t# 1 Jul 1993\n",
      "2982009600\t29\t# 1 Jul 1994\n",
      "3029443200\t30\t# 1 Jan 1996\n",
      "3076704000\t31\t# 1 Jul 1997\n",
      "3124137600\t32\t# 1 Jan 1999\n",
      "3345062400\t33\t# 1 Jan 2006\n",
      "3439756800\t34\t# 1 Jan 2009\n",
      "3550089600\t35\t# 1 Jul 2012\n",
      "3644697600\t36\t# 1 Jul 2015\n",
      "3692217600\t37\t# 1 Jan 2017\n"
     ]
    }
   ],
   "source": [
    "lp_table = '\\n'.join(filter(lambda l:l[0]!='#',requests.get(\"https://www.ietf.org/timezones/data/leap-seconds.list\").text.split('\\n')[:-1]))\n",
    "print(lp_table)"
   ]
  },
  {
   "cell_type": "code",
   "execution_count": 3,
   "metadata": {},
   "outputs": [
    {
     "data": {
      "text/plain": [
       "[('2272060800', '10', '1', 'Jan', '1972'),\n",
       " ('2287785600', '11', '1', 'Jul', '1972'),\n",
       " ('2303683200', '12', '1', 'Jan', '1973'),\n",
       " ('2335219200', '13', '1', 'Jan', '1974'),\n",
       " ('2366755200', '14', '1', 'Jan', '1975'),\n",
       " ('2398291200', '15', '1', 'Jan', '1976'),\n",
       " ('2429913600', '16', '1', 'Jan', '1977'),\n",
       " ('2461449600', '17', '1', 'Jan', '1978'),\n",
       " ('2492985600', '18', '1', 'Jan', '1979'),\n",
       " ('2524521600', '19', '1', 'Jan', '1980'),\n",
       " ('2571782400', '20', '1', 'Jul', '1981'),\n",
       " ('2603318400', '21', '1', 'Jul', '1982'),\n",
       " ('2634854400', '22', '1', 'Jul', '1983'),\n",
       " ('2698012800', '23', '1', 'Jul', '1985'),\n",
       " ('2776982400', '24', '1', 'Jan', '1988'),\n",
       " ('2840140800', '25', '1', 'Jan', '1990'),\n",
       " ('2871676800', '26', '1', 'Jan', '1991'),\n",
       " ('2918937600', '27', '1', 'Jul', '1992'),\n",
       " ('2950473600', '28', '1', 'Jul', '1993'),\n",
       " ('2982009600', '29', '1', 'Jul', '1994'),\n",
       " ('3029443200', '30', '1', 'Jan', '1996'),\n",
       " ('3076704000', '31', '1', 'Jul', '1997'),\n",
       " ('3124137600', '32', '1', 'Jan', '1999'),\n",
       " ('3345062400', '33', '1', 'Jan', '2006'),\n",
       " ('3439756800', '34', '1', 'Jan', '2009'),\n",
       " ('3550089600', '35', '1', 'Jul', '2012'),\n",
       " ('3644697600', '36', '1', 'Jul', '2015'),\n",
       " ('3692217600', '37', '1', 'Jan', '2017')]"
      ]
     },
     "execution_count": 3,
     "metadata": {},
     "output_type": "execute_result"
    }
   ],
   "source": [
    "rx=re.compile(\"(\\d+).*(\\d\\d).*(\\d).*(Jan|Jul).*(\\d{4})\\n?\")\n",
    "rx.findall(lp_table)"
   ]
  },
  {
   "cell_type": "code",
   "execution_count": 4,
   "metadata": {},
   "outputs": [
    {
     "data": {
      "text/plain": [
       "datetime.datetime(2017, 1, 1, 0, 0)"
      ]
     },
     "execution_count": 4,
     "metadata": {},
     "output_type": "execute_result"
    }
   ],
   "source": [
    "last_entry=parser.parse(' ' .join(rx.findall(lp_table)[-1][2:]))\n",
    "last_entry"
   ]
  },
  {
   "cell_type": "code",
   "execution_count": 5,
   "metadata": {},
   "outputs": [],
   "source": [
    "def direct_table(lp_table):\n",
    "    _1900=datetime(1900,1,1, tzinfo=pytz.UTC).timestamp()\n",
    "    res = \"\"\"constexpr std::array leap_seconds_tt2000 = \n",
    "    {\"\"\"\n",
    "    for sec in rx.findall(lp_table):\n",
    "        offset = int(sec[0])\n",
    "        corr = int(sec[1])\n",
    "        ns = int((_1900+offset)*1e9)\n",
    "        res += f\"// {sec[2:]}\\n\"\n",
    "        res += f\"    std::pair{{ {ns}  , {int(corr*1e9)}}},\\n\"\n",
    "    res += \"};\\n\"\n",
    "    return res\n",
    "\n",
    "def reverse_table(lp_table):\n",
    "    tt2000_offset = 946727967816000000\n",
    "    _1900=datetime(1900,1,1, tzinfo=pytz.UTC).timestamp()\n",
    "    res = \"\"\"constexpr std::array leap_seconds_tt2000_reverse = \n",
    "    {\"\"\"\n",
    "    for sec in rx.findall(lp_table):\n",
    "        offset = int(sec[0])\n",
    "        corr = int(int(sec[1])*1e9)\n",
    "        ns = int((_1900+offset)*1e9)-tt2000_offset+corr\n",
    "        res += f\"// {sec[2:]}\\n\"\n",
    "        res += f\"    std::pair{{ {ns}  , {corr}}},\\n\"\n",
    "    res += \"};\\n\"\n",
    "    return res\n"
   ]
  },
  {
   "cell_type": "code",
   "execution_count": 6,
   "metadata": {},
   "outputs": [],
   "source": [
    "with open('../include/cdfpp/chrono/cdf-leap-seconds.h', 'w') as leap_file:\n",
    "    leap_file.write(\"\"\"\n",
    "#pragma once\n",
    "/*------------------------------------------------------------------------------\n",
    "-- This file is a part of the CDFpp library\n",
    "-- Copyright (C) 2022, Plasma Physics Laboratory - CNRS\n",
    "--\n",
    "-- This program is free software; you can redistribute it and/or modify\n",
    "-- it under the terms of the GNU General Public License as published by\n",
    "-- the Free Software Foundation; either version 2 of the License, or\n",
    "-- (at your option) any later version.\n",
    "--\n",
    "-- This program is distributed in the hope that it will be useful,\n",
    "-- but WITHOUT ANY WARRANTY; without even the implied warranty of\n",
    "-- MERCHANTABILITY or FITNESS FOR A PARTICULAR PURPOSE. See the\n",
    "-- GNU General Public License for more details.\n",
    "--\n",
    "-- You should have received a copy of the GNU General Public License\n",
    "-- along with this program; if not, write to the Free Software\n",
    "-- Foundation, Inc., 59 Temple Place, Suite 330, Boston, MA 02111-1307 USA\n",
    "-------------------------------------------------------------------------------*/\n",
    "/*-- Author : Alexis Jeandet\n",
    "-- Mail : alexis.jeandet@member.fsf.org\n",
    "----------------------------------------------------------------------------*/\n",
    "#include <chrono>\n",
    "#include <utility>\n",
    "#include <array>\n",
    "namespace cdf::chrono::leap_seconds\n",
    "{    \n",
    "using namespace std::chrono;\n",
    "\"\"\")\n",
    "    leap_file.write(f\"\"\"\n",
    "    static inline constexpr uint32_t last_updated = {last_entry.year}{last_entry.month:02d}{last_entry.day:02d};\n",
    "\n",
    "    \"\"\")\n",
    "    leap_file.write(direct_table(lp_table))\n",
    "    leap_file.write(reverse_table(lp_table))\n",
    "    leap_file.write(\"\"\"\n",
    "} //namespace cdf\n",
    "    \"\"\")"
   ]
  },
  {
   "cell_type": "code",
   "execution_count": null,
   "metadata": {},
   "outputs": [],
   "source": []
  }
 ],
 "metadata": {
  "kernelspec": {
   "display_name": "Python 3 (ipykernel)",
   "language": "python",
   "name": "python3"
  },
  "language_info": {
   "codemirror_mode": {
    "name": "ipython",
    "version": 3
   },
   "file_extension": ".py",
   "mimetype": "text/x-python",
   "name": "python",
   "nbconvert_exporter": "python",
   "pygments_lexer": "ipython3",
   "version": "3.11.4"
  },
  "toc": {
   "base_numbering": 1,
   "nav_menu": {},
   "number_sections": true,
   "sideBar": true,
   "skip_h1_title": false,
   "title_cell": "Table of Contents",
   "title_sidebar": "Contents",
   "toc_cell": false,
   "toc_position": {},
   "toc_section_display": true,
   "toc_window_display": false
  },
  "varInspector": {
   "cols": {
    "lenName": 16,
    "lenType": 16,
    "lenVar": 40
   },
   "kernels_config": {
    "python": {
     "delete_cmd_postfix": "",
     "delete_cmd_prefix": "del ",
     "library": "var_list.py",
     "varRefreshCmd": "print(var_dic_list())"
    },
    "r": {
     "delete_cmd_postfix": ") ",
     "delete_cmd_prefix": "rm(",
     "library": "var_list.r",
     "varRefreshCmd": "cat(var_dic_list()) "
    }
   },
   "types_to_exclude": [
    "module",
    "function",
    "builtin_function_or_method",
    "instance",
    "_Feature"
   ],
   "window_display": false
  }
 },
 "nbformat": 4,
 "nbformat_minor": 4
}
