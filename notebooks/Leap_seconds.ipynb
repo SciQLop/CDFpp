{
 "cells": [
  {
   "cell_type": "code",
   "execution_count": 4,
   "metadata": {
    "ExecuteTime": {
     "end_time": "2020-10-28T16:08:38.749155Z",
     "start_time": "2020-10-28T16:08:38.130933Z"
    }
   },
   "outputs": [],
   "source": [
    "import pandas as pds\n",
    "from astropy.time import Time\n",
    "from datetime import timedelta"
   ]
  },
  {
   "cell_type": "markdown",
   "metadata": {},
   "source": [
    "# Get official leap seconds list from International Time Bureau"
   ]
  },
  {
   "cell_type": "code",
   "execution_count": 5,
   "metadata": {
    "ExecuteTime": {
     "end_time": "2020-10-28T16:08:40.510933Z",
     "start_time": "2020-10-28T16:08:40.437789Z"
    }
   },
   "outputs": [],
   "source": [
    "leap_seconds = pds.read_csv(\"https://www.ietf.org/timezones/data/leap-seconds.list\", comment=\"#\", sep='\\t', names=[\"epoch\",\"offset\"], index_col=False) "
   ]
  },
  {
   "cell_type": "markdown",
   "metadata": {},
   "source": [
    "# Print leap seconds list "
   ]
  },
  {
   "cell_type": "code",
   "execution_count": 6,
   "metadata": {
    "ExecuteTime": {
     "end_time": "2020-10-28T16:08:42.586171Z",
     "start_time": "2020-10-28T16:08:42.138583Z"
    }
   },
   "outputs": [
    {
     "name": "stdout",
     "output_type": "stream",
     "text": [
      "1972-01-01 00:00:00.000\n",
      "1972-07-01 00:00:00.000\n",
      "1973-01-01 00:00:00.000\n",
      "1974-01-01 00:00:00.000\n",
      "1975-01-01 00:00:00.000\n",
      "1976-01-01 00:00:00.000\n",
      "1977-01-01 00:00:00.000\n",
      "1978-01-01 00:00:00.000\n",
      "1979-01-01 00:00:00.000\n",
      "1980-01-01 00:00:00.000\n",
      "1981-07-01 00:00:00.000\n",
      "1982-07-01 00:00:00.000\n",
      "1983-07-01 00:00:00.000\n",
      "1985-07-01 00:00:00.000\n",
      "1988-01-01 00:00:00.000\n",
      "1990-01-01 00:00:00.000\n",
      "1991-01-01 00:00:00.000\n",
      "1992-07-01 00:00:00.000\n",
      "1993-07-01 00:00:00.000\n",
      "1994-07-01 00:00:00.000\n",
      "1996-01-01 00:00:00.000\n",
      "1997-07-01 00:00:00.000\n",
      "1999-01-01 00:00:00.000\n",
      "2006-01-01 00:00:00.000\n",
      "2009-01-01 00:00:00.000\n",
      "2012-07-01 00:00:00.000\n",
      "2015-07-01 00:00:00.000\n",
      "2017-01-01 00:00:00.000\n"
     ]
    },
    {
     "name": "stderr",
     "output_type": "stream",
     "text": [
      "WARNING: ErfaWarning: ERFA function \"dtf2d\" yielded 1 of \"dubious year (Note 6)\" [astropy._erfa.core]\n",
      "WARNING: ErfaWarning: ERFA function \"utctai\" yielded 1 of \"dubious year (Note 3)\" [astropy._erfa.core]\n"
     ]
    }
   ],
   "source": [
    "for sec in leap_seconds.values: \n",
    "    print(Time(\"1900-01-01\", scale='utc') + timedelta(seconds=float(sec[0]+sec[1]))) "
   ]
  },
  {
   "cell_type": "markdown",
   "metadata": {},
   "source": [
    "# generate C++ code for CDF++ lib"
   ]
  },
  {
   "cell_type": "code",
   "execution_count": 36,
   "metadata": {
    "ExecuteTime": {
     "end_time": "2020-10-28T16:27:25.677837Z",
     "start_time": "2020-10-28T16:27:25.572483Z"
    },
    "scrolled": false
   },
   "outputs": [],
   "source": [
    "def std_chrono_datetime(dt):\n",
    "    if type(dt) is Time:\n",
    "        return \"sys_days {{ {year}_y / {month} / {day}_d }} + {hours}h + {minutes}min + {seconds}s + {microsec}us\".format(\n",
    "            year=dt.datetime.year,\n",
    "            month=dt.datetime.month,\n",
    "            day=dt.datetime.day,\n",
    "            hours=dt.datetime.hour,\n",
    "            minutes=dt.datetime.minute,\n",
    "            seconds=dt.datetime.second,\n",
    "            microsec=dt.datetime.microsecond\n",
    "        )\n",
    "\n",
    "\n",
    "def build_leap_table():\n",
    "    res = \"\"\"constexpr std::array leap_seconds_tt2000 = \n",
    "    {\"\"\"\n",
    "    for sec in leap_seconds.values:\n",
    "        date = Time(\"1900-01-01\",\n",
    "                    scale='utc') + timedelta(seconds=float(sec[0] + sec[1]))\n",
    "        res += f\"// {date}\\n\"\n",
    "        res += f\"    std::pair{{ {std_chrono_datetime(date)}  , {sec[1]} - 32 }},\\n\"\n",
    "    res += \"};\\n\"\n",
    "    return res\n",
    "\n",
    "\n",
    "def build_reverse_leap_table():\n",
    "    res = \"\"\"constexpr std::array leap_seconds_tt2000_reverse = \n",
    "    {\"\"\"\n",
    "    for sec in leap_seconds.values:\n",
    "        date = Time(\"1900-01-01\",\n",
    "                    scale='utc') + timedelta(seconds=float(sec[0] + sec[1]))\n",
    "        res += f\"// {date}\\n\"\n",
    "        res += f\"    std::pair{{ tt2000_t{{ ({sec[0]} - constants::seconds_1900_to_J2000 + {sec[1]} -32) *1000*1000*1000 }}  , {sec[1]} - 32 }},\\n\"\n",
    "    res += \"\"\"};\\n\"\"\"\n",
    "    return res\n",
    "\n",
    "\n",
    "with open('../include/cdf-leap-seconds.h', 'w') as leap_file:\n",
    "    leap_file.write(\"\"\"\n",
    "#pragma once\n",
    "/*------------------------------------------------------------------------------\n",
    "-- This file is a part of the CDFpp library\n",
    "-- Copyright (C) 2020, Plasma Physics Laboratory - CNRS\n",
    "--\n",
    "-- This program is free software; you can redistribute it and/or modify\n",
    "-- it under the terms of the GNU General Public License as published by\n",
    "-- the Free Software Foundation; either version 2 of the License, or\n",
    "-- (at your option) any later version.\n",
    "--\n",
    "-- This program is distributed in the hope that it will be useful,\n",
    "-- but WITHOUT ANY WARRANTY; without even the implied warranty of\n",
    "-- MERCHANTABILITY or FITNESS FOR A PARTICULAR PURPOSE. See the\n",
    "-- GNU General Public License for more details.\n",
    "--\n",
    "-- You should have received a copy of the GNU General Public License\n",
    "-- along with this program; if not, write to the Free Software\n",
    "-- Foundation, Inc., 59 Temple Place, Suite 330, Boston, MA 02111-1307 USA\n",
    "-------------------------------------------------------------------------------*/\n",
    "/*-- Author : Alexis Jeandet\n",
    "-- Mail : alexis.jeandet@member.fsf.org\n",
    "----------------------------------------------------------------------------*/\n",
    "#include \"date/date.h\"\n",
    "#include <chrono>\n",
    "#include <utility>\n",
    "#include <array>\n",
    "#include \"cdf-chrono-constants.hpp\"\n",
    "namespace cdf::chrono::leap_seconds\n",
    "{    \n",
    "using namespace date;\n",
    "using namespace std::chrono;\n",
    "\"\"\")\n",
    "    leap_file.write(build_leap_table())\n",
    "    leap_file.write(build_reverse_leap_table())\n",
    "    leap_file.write(\"\"\"\n",
    "} //namespace cdf\n",
    "    \"\"\")"
   ]
  },
  {
   "cell_type": "code",
   "execution_count": 5,
   "metadata": {
    "ExecuteTime": {
     "end_time": "2020-02-26T16:39:04.005371Z",
     "start_time": "2020-02-26T16:39:03.980576Z"
    },
    "scrolled": false
   },
   "outputs": [
    {
     "name": "stdout",
     "output_type": "stream",
     "text": [
      "constexpr std::array leap_seconds_J2000_reverse = \n",
      "{\n",
      "    std::pair{ duration_cast<seconds>( (sys_days { 1972_y / 01 / 01 } + 0h ) - _J2000).count() + 10 - 32 , 10 - 32 },\n",
      "    std::pair{ duration_cast<seconds>( (sys_days { 1972_y / 07 / 01 } + 0h ) - _J2000).count() + 11 - 32 , 11 - 32 },\n",
      "    std::pair{ duration_cast<seconds>( (sys_days { 1973_y / 01 / 01 } + 0h ) - _J2000).count() + 12 - 32 , 12 - 32 },\n",
      "    std::pair{ duration_cast<seconds>( (sys_days { 1974_y / 01 / 01 } + 0h ) - _J2000).count() + 13 - 32 , 13 - 32 },\n",
      "    std::pair{ duration_cast<seconds>( (sys_days { 1975_y / 01 / 01 } + 0h ) - _J2000).count() + 14 - 32 , 14 - 32 },\n",
      "    std::pair{ duration_cast<seconds>( (sys_days { 1976_y / 01 / 01 } + 0h ) - _J2000).count() + 15 - 32 , 15 - 32 },\n",
      "    std::pair{ duration_cast<seconds>( (sys_days { 1977_y / 01 / 01 } + 0h ) - _J2000).count() + 16 - 32 , 16 - 32 },\n",
      "    std::pair{ duration_cast<seconds>( (sys_days { 1978_y / 01 / 01 } + 0h ) - _J2000).count() + 17 - 32 , 17 - 32 },\n",
      "    std::pair{ duration_cast<seconds>( (sys_days { 1979_y / 01 / 01 } + 0h ) - _J2000).count() + 18 - 32 , 18 - 32 },\n",
      "    std::pair{ duration_cast<seconds>( (sys_days { 1980_y / 01 / 01 } + 0h ) - _J2000).count() + 19 - 32 , 19 - 32 },\n",
      "    std::pair{ duration_cast<seconds>( (sys_days { 1981_y / 07 / 01 } + 0h ) - _J2000).count() + 20 - 32 , 20 - 32 },\n",
      "    std::pair{ duration_cast<seconds>( (sys_days { 1982_y / 07 / 01 } + 0h ) - _J2000).count() + 21 - 32 , 21 - 32 },\n",
      "    std::pair{ duration_cast<seconds>( (sys_days { 1983_y / 07 / 01 } + 0h ) - _J2000).count() + 22 - 32 , 22 - 32 },\n",
      "    std::pair{ duration_cast<seconds>( (sys_days { 1985_y / 07 / 01 } + 0h ) - _J2000).count() + 23 - 32 , 23 - 32 },\n",
      "    std::pair{ duration_cast<seconds>( (sys_days { 1988_y / 01 / 01 } + 0h ) - _J2000).count() + 24 - 32 , 24 - 32 },\n",
      "    std::pair{ duration_cast<seconds>( (sys_days { 1990_y / 01 / 01 } + 0h ) - _J2000).count() + 25 - 32 , 25 - 32 },\n",
      "    std::pair{ duration_cast<seconds>( (sys_days { 1991_y / 01 / 01 } + 0h ) - _J2000).count() + 26 - 32 , 26 - 32 },\n",
      "    std::pair{ duration_cast<seconds>( (sys_days { 1992_y / 07 / 01 } + 0h ) - _J2000).count() + 27 - 32 , 27 - 32 },\n",
      "    std::pair{ duration_cast<seconds>( (sys_days { 1993_y / 07 / 01 } + 0h ) - _J2000).count() + 28 - 32 , 28 - 32 },\n",
      "    std::pair{ duration_cast<seconds>( (sys_days { 1994_y / 07 / 01 } + 0h ) - _J2000).count() + 29 - 32 , 29 - 32 },\n",
      "    std::pair{ duration_cast<seconds>( (sys_days { 1996_y / 01 / 01 } + 0h ) - _J2000).count() + 30 - 32 , 30 - 32 },\n",
      "    std::pair{ duration_cast<seconds>( (sys_days { 1997_y / 07 / 01 } + 0h ) - _J2000).count() + 31 - 32 , 31 - 32 },\n",
      "    std::pair{ duration_cast<seconds>( (sys_days { 1999_y / 01 / 01 } + 0h ) - _J2000).count() + 32 - 32 , 32 - 32 },\n",
      "    std::pair{ duration_cast<seconds>( (sys_days { 2006_y / 01 / 01 } + 0h ) - _J2000).count() + 33 - 32 , 33 - 32 },\n",
      "    std::pair{ duration_cast<seconds>( (sys_days { 2009_y / 01 / 01 } + 0h ) - _J2000).count() + 34 - 32 , 34 - 32 },\n",
      "    std::pair{ duration_cast<seconds>( (sys_days { 2012_y / 07 / 01 } + 0h ) - _J2000).count() + 35 - 32 , 35 - 32 },\n",
      "    std::pair{ duration_cast<seconds>( (sys_days { 2015_y / 07 / 01 } + 0h ) - _J2000).count() + 36 - 32 , 36 - 32 },\n",
      "    std::pair{ duration_cast<seconds>( (sys_days { 2017_y / 01 / 01 } + 0h ) - _J2000).count() + 37 - 32 , 37 - 32 },\n",
      "};\n"
     ]
    }
   ],
   "source": [
    "print(\"\"\"constexpr std::array leap_seconds_J2000_reverse = \n",
    "{\"\"\")\n",
    "for sec in leap_seconds.values: \n",
    "    date = str(Time(\"1900-01-01\") + timedelta(seconds=float(sec[0]+sec[1]))).split()[0].split('-')\n",
    "    print(f\"    std::pair{{ duration_cast<seconds>( (sys_days {{ {date[0]}_y / {date[1]} / {date[2]} }} + 0h ) - _J2000).count() + {sec[1]} - 32 , {sec[1]} - 32 }},\") \n",
    "print(\"\"\"};\"\"\")\n"
   ]
  },
  {
   "cell_type": "code",
   "execution_count": 2,
   "metadata": {
    "ExecuteTime": {
     "end_time": "2020-10-28T16:01:44.149122Z",
     "start_time": "2020-10-28T16:01:44.014909Z"
    }
   },
   "outputs": [
    {
     "name": "stdout",
     "output_type": "stream",
     "text": [
      "#pragma once\r\n",
      "/*------------------------------------------------------------------------------\r\n",
      "-- This file is a part of the CDFpp library\r\n",
      "-- Copyright (C) 2020, Plasma Physics Laboratory - CNRS\r\n",
      "--\r\n",
      "-- This program is free software; you can redistribute it and/or modify\r\n",
      "-- it under the terms of the GNU General Public License as published by\r\n",
      "-- the Free Software Foundation; either version 2 of the License, or\r\n",
      "-- (at your option) any later version.\r\n",
      "--\r\n",
      "-- This program is distributed in the hope that it will be useful,\r\n",
      "-- but WITHOUT ANY WARRANTY; without even the implied warranty of\r\n",
      "-- MERCHANTABILITY or FITNESS FOR A PARTICULAR PURPOSE. See the\r\n",
      "-- GNU General Public License for more details.\r\n",
      "--\r\n",
      "-- You should have received a copy of the GNU General Public License\r\n",
      "-- along with this program; if not, write to the Free Software\r\n",
      "-- Foundation, Inc., 59 Temple Place, Suite 330, Boston, MA 02111-1307 USA\r\n",
      "-------------------------------------------------------------------------------*/\r\n",
      "/*-- Author : Alexis Jeandet\r\n",
      "-- Mail : alexis.jeandet@member.fsf.org\r\n",
      "----------------------------------------------------------------------------*/\r\n",
      "#include \"date/date.h\"\r\n",
      "#include <chrono>\r\n",
      "\r\n",
      "\r\n",
      "namespace cdf::chrono::constants\r\n",
      "{\r\n",
      "using namespace date;\r\n",
      "using namespace std::chrono;\r\n",
      "constexpr auto _0AD = sys_days { 0_y / January / 1 } + 0h;\r\n",
      "constexpr auto _1900 = sys_days { 1900_y / January / 1 } + 0h;\r\n",
      "constexpr auto _1970 = sys_days { 1970_y / January / 1 } + 0h;\r\n",
      "// see https://en.wikipedia.org/wiki/Epoch_(astronomy)#Julian_Dates_and_J2000\r\n",
      "constexpr auto _J2000 = sys_days { 2000_y / January / 1 } + 11h + 58min + 55s + 816ms;\r\n",
      "constexpr double seconds_0AD_to_1970 = duration_cast<seconds>(_1970 - _0AD).count();\r\n",
      "constexpr double mseconds_0AD_to_1970 = duration_cast<milliseconds>(_1970 - _0AD).count();\r\n",
      "constexpr int64_t seconds_1970_to_J2000 = duration_cast<seconds>(_J2000 - _1970).count();\r\n",
      "constexpr int64_t seconds_1900_to_J2000 = duration_cast<seconds>(_J2000 - _1900).count();\r\n",
      "}\r\n"
     ]
    }
   ],
   "source": [
    "!cat ../include/cdf-chrono-constants.hpp"
   ]
  },
  {
   "cell_type": "code",
   "execution_count": 29,
   "metadata": {
    "ExecuteTime": {
     "end_time": "2020-10-28T16:16:20.347449Z",
     "start_time": "2020-10-28T16:16:20.293113Z"
    },
    "scrolled": false
   },
   "outputs": [
    {
     "name": "stdout",
     "output_type": "stream",
     "text": [
      "sys_days { 1972_y / 1_m / 1_d } + 0h + 0min + 0s + 0us\n",
      "sys_days { 1972_y / 7_m / 1_d } + 0h + 0min + 0s + 0us\n",
      "sys_days { 1973_y / 1_m / 1_d } + 0h + 0min + 0s + 0us\n",
      "sys_days { 1974_y / 1_m / 1_d } + 0h + 0min + 0s + 0us\n",
      "sys_days { 1975_y / 1_m / 1_d } + 0h + 0min + 0s + 0us\n",
      "sys_days { 1976_y / 1_m / 1_d } + 0h + 0min + 0s + 0us\n",
      "sys_days { 1977_y / 1_m / 1_d } + 0h + 0min + 0s + 0us\n",
      "sys_days { 1978_y / 1_m / 1_d } + 0h + 0min + 0s + 0us\n",
      "sys_days { 1979_y / 1_m / 1_d } + 0h + 0min + 0s + 0us\n",
      "sys_days { 1980_y / 1_m / 1_d } + 0h + 0min + 0s + 0us\n",
      "sys_days { 1981_y / 7_m / 1_d } + 0h + 0min + 0s + 0us\n",
      "sys_days { 1982_y / 7_m / 1_d } + 0h + 0min + 0s + 0us\n",
      "sys_days { 1983_y / 7_m / 1_d } + 0h + 0min + 0s + 0us\n",
      "sys_days { 1985_y / 7_m / 1_d } + 0h + 0min + 0s + 0us\n",
      "sys_days { 1988_y / 1_m / 1_d } + 0h + 0min + 0s + 0us\n",
      "sys_days { 1990_y / 1_m / 1_d } + 0h + 0min + 0s + 0us\n",
      "sys_days { 1991_y / 1_m / 1_d } + 0h + 0min + 0s + 0us\n",
      "sys_days { 1992_y / 7_m / 1_d } + 0h + 0min + 0s + 0us\n",
      "sys_days { 1993_y / 7_m / 1_d } + 0h + 0min + 0s + 0us\n",
      "sys_days { 1994_y / 7_m / 1_d } + 0h + 0min + 0s + 0us\n",
      "sys_days { 1996_y / 1_m / 1_d } + 0h + 0min + 0s + 0us\n",
      "sys_days { 1997_y / 7_m / 1_d } + 0h + 0min + 0s + 0us\n",
      "sys_days { 1999_y / 1_m / 1_d } + 0h + 0min + 0s + 0us\n",
      "sys_days { 2006_y / 1_m / 1_d } + 0h + 0min + 0s + 0us\n",
      "sys_days { 2009_y / 1_m / 1_d } + 0h + 0min + 0s + 0us\n",
      "sys_days { 2012_y / 7_m / 1_d } + 0h + 0min + 0s + 0us\n",
      "sys_days { 2015_y / 7_m / 1_d } + 0h + 0min + 0s + 0us\n",
      "sys_days { 2017_y / 1_m / 1_d } + 0h + 0min + 0s + 0us\n"
     ]
    }
   ],
   "source": [
    "dt=Time(\"1900-01-01\",scale='utc') + timedelta(seconds=1.5)\n",
    "for sec in leap_seconds.values:\n",
    "        date = Time(\"1900-01-01\",\n",
    "                    scale='utc') + timedelta(seconds=float(sec[0] + sec[1]))\n",
    "        print(std_chrono_datetime(date))"
   ]
  },
  {
   "cell_type": "code",
   "execution_count": 7,
   "metadata": {},
   "outputs": [
    {
     "data": {
      "text/plain": [
       "array([[2272060800,         10],\n",
       "       [2287785600,         11],\n",
       "       [2303683200,         12],\n",
       "       [2335219200,         13],\n",
       "       [2366755200,         14],\n",
       "       [2398291200,         15],\n",
       "       [2429913600,         16],\n",
       "       [2461449600,         17],\n",
       "       [2492985600,         18],\n",
       "       [2524521600,         19],\n",
       "       [2571782400,         20],\n",
       "       [2603318400,         21],\n",
       "       [2634854400,         22],\n",
       "       [2698012800,         23],\n",
       "       [2776982400,         24],\n",
       "       [2840140800,         25],\n",
       "       [2871676800,         26],\n",
       "       [2918937600,         27],\n",
       "       [2950473600,         28],\n",
       "       [2982009600,         29],\n",
       "       [3029443200,         30],\n",
       "       [3076704000,         31],\n",
       "       [3124137600,         32],\n",
       "       [3345062400,         33],\n",
       "       [3439756800,         34],\n",
       "       [3550089600,         35],\n",
       "       [3644697600,         36],\n",
       "       [3692217600,         37]])"
      ]
     },
     "execution_count": 7,
     "metadata": {},
     "output_type": "execute_result"
    }
   ],
   "source": [
    "leap_seconds.values\n"
   ]
  }
 ],
 "metadata": {
  "kernelspec": {
   "display_name": "Python 3",
   "language": "python",
   "name": "python3"
  },
  "language_info": {
   "codemirror_mode": {
    "name": "ipython",
    "version": 3
   },
   "file_extension": ".py",
   "mimetype": "text/x-python",
   "name": "python",
   "nbconvert_exporter": "python",
   "pygments_lexer": "ipython3",
   "version": "3.9.0"
  },
  "toc": {
   "base_numbering": 1,
   "nav_menu": {},
   "number_sections": true,
   "sideBar": true,
   "skip_h1_title": false,
   "title_cell": "Table of Contents",
   "title_sidebar": "Contents",
   "toc_cell": false,
   "toc_position": {},
   "toc_section_display": true,
   "toc_window_display": false
  },
  "varInspector": {
   "cols": {
    "lenName": 16,
    "lenType": 16,
    "lenVar": 40
   },
   "kernels_config": {
    "python": {
     "delete_cmd_postfix": "",
     "delete_cmd_prefix": "del ",
     "library": "var_list.py",
     "varRefreshCmd": "print(var_dic_list())"
    },
    "r": {
     "delete_cmd_postfix": ") ",
     "delete_cmd_prefix": "rm(",
     "library": "var_list.r",
     "varRefreshCmd": "cat(var_dic_list()) "
    }
   },
   "types_to_exclude": [
    "module",
    "function",
    "builtin_function_or_method",
    "instance",
    "_Feature"
   ],
   "window_display": false
  }
 },
 "nbformat": 4,
 "nbformat_minor": 2
}
