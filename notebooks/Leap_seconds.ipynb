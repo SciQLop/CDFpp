{
 "cells": [
  {
   "cell_type": "code",
   "execution_count": 2,
   "metadata": {},
   "outputs": [],
   "source": [
    "import pandas as pds\n",
    "from astropy.time import Time\n",
    "from datetime import timedelta"
   ]
  },
  {
   "cell_type": "markdown",
   "metadata": {},
   "source": [
    "# Get official leap seconds list from International Time Bureau"
   ]
  },
  {
   "cell_type": "code",
   "execution_count": 5,
   "metadata": {},
   "outputs": [],
   "source": [
    "leap_seconds = pds.read_csv(\"https://www.ietf.org/timezones/data/leap-seconds.list\", comment=\"#\", sep='\\t', names=[\"epoch\",\"offset\"], index_col=False) "
   ]
  },
  {
   "cell_type": "markdown",
   "metadata": {},
   "source": [
    "# Print leap seconds list "
   ]
  },
  {
   "cell_type": "code",
   "execution_count": 6,
   "metadata": {},
   "outputs": [
    {
     "name": "stdout",
     "output_type": "stream",
     "text": [
      "1972-01-01 00:00:00.000\n",
      "1972-07-01 00:00:00.000\n",
      "1973-01-01 00:00:00.000\n",
      "1974-01-01 00:00:00.000\n",
      "1975-01-01 00:00:00.000\n",
      "1976-01-01 00:00:00.000\n",
      "1977-01-01 00:00:00.000\n",
      "1978-01-01 00:00:00.000\n",
      "1979-01-01 00:00:00.000\n",
      "1980-01-01 00:00:00.000\n",
      "1981-07-01 00:00:00.000\n",
      "1982-07-01 00:00:00.000\n",
      "1983-07-01 00:00:00.000\n",
      "1985-07-01 00:00:00.000\n",
      "1988-01-01 00:00:00.000\n",
      "1990-01-01 00:00:00.000\n",
      "1991-01-01 00:00:00.000\n",
      "1992-07-01 00:00:00.000\n",
      "1993-07-01 00:00:00.000\n",
      "1994-07-01 00:00:00.000\n",
      "1996-01-01 00:00:00.000\n",
      "1997-07-01 00:00:00.000\n",
      "1999-01-01 00:00:00.000\n",
      "2006-01-01 00:00:00.000\n",
      "2009-01-01 00:00:00.000\n",
      "2012-07-01 00:00:00.000\n",
      "2015-07-01 00:00:00.000\n",
      "2017-01-01 00:00:00.000\n"
     ]
    }
   ],
   "source": [
    "for sec in leap_seconds.values: \n",
    "    print(Time(\"1900-01-01\") + timedelta(seconds=float(sec[0]+sec[1]))) "
   ]
  },
  {
   "cell_type": "markdown",
   "metadata": {},
   "source": [
    "# generate C++ code for CDF++ lib"
   ]
  },
  {
   "cell_type": "code",
   "execution_count": 16,
   "metadata": {},
   "outputs": [
    {
     "name": "stdout",
     "output_type": "stream",
     "text": [
      "constexpr auto leap_seconds_J2000 = \n",
      "{\n",
      "    std::pair{ duration_cast<seconds>( (sys_days { 1972_y / 01 / 01 } + 0h ) - _J2000).count() , 10 },\n",
      "    std::pair{ duration_cast<seconds>( (sys_days { 1972_y / 07 / 01 } + 0h ) - _J2000).count() , 11 },\n",
      "    std::pair{ duration_cast<seconds>( (sys_days { 1973_y / 01 / 01 } + 0h ) - _J2000).count() , 12 },\n",
      "    std::pair{ duration_cast<seconds>( (sys_days { 1974_y / 01 / 01 } + 0h ) - _J2000).count() , 13 },\n",
      "    std::pair{ duration_cast<seconds>( (sys_days { 1975_y / 01 / 01 } + 0h ) - _J2000).count() , 14 },\n",
      "    std::pair{ duration_cast<seconds>( (sys_days { 1976_y / 01 / 01 } + 0h ) - _J2000).count() , 15 },\n",
      "    std::pair{ duration_cast<seconds>( (sys_days { 1977_y / 01 / 01 } + 0h ) - _J2000).count() , 16 },\n",
      "    std::pair{ duration_cast<seconds>( (sys_days { 1978_y / 01 / 01 } + 0h ) - _J2000).count() , 17 },\n",
      "    std::pair{ duration_cast<seconds>( (sys_days { 1979_y / 01 / 01 } + 0h ) - _J2000).count() , 18 },\n",
      "    std::pair{ duration_cast<seconds>( (sys_days { 1980_y / 01 / 01 } + 0h ) - _J2000).count() , 19 },\n",
      "    std::pair{ duration_cast<seconds>( (sys_days { 1981_y / 07 / 01 } + 0h ) - _J2000).count() , 20 },\n",
      "    std::pair{ duration_cast<seconds>( (sys_days { 1982_y / 07 / 01 } + 0h ) - _J2000).count() , 21 },\n",
      "    std::pair{ duration_cast<seconds>( (sys_days { 1983_y / 07 / 01 } + 0h ) - _J2000).count() , 22 },\n",
      "    std::pair{ duration_cast<seconds>( (sys_days { 1985_y / 07 / 01 } + 0h ) - _J2000).count() , 23 },\n",
      "    std::pair{ duration_cast<seconds>( (sys_days { 1988_y / 01 / 01 } + 0h ) - _J2000).count() , 24 },\n",
      "    std::pair{ duration_cast<seconds>( (sys_days { 1990_y / 01 / 01 } + 0h ) - _J2000).count() , 25 },\n",
      "    std::pair{ duration_cast<seconds>( (sys_days { 1991_y / 01 / 01 } + 0h ) - _J2000).count() , 26 },\n",
      "    std::pair{ duration_cast<seconds>( (sys_days { 1992_y / 07 / 01 } + 0h ) - _J2000).count() , 27 },\n",
      "    std::pair{ duration_cast<seconds>( (sys_days { 1993_y / 07 / 01 } + 0h ) - _J2000).count() , 28 },\n",
      "    std::pair{ duration_cast<seconds>( (sys_days { 1994_y / 07 / 01 } + 0h ) - _J2000).count() , 29 },\n",
      "    std::pair{ duration_cast<seconds>( (sys_days { 1996_y / 01 / 01 } + 0h ) - _J2000).count() , 30 },\n",
      "    std::pair{ duration_cast<seconds>( (sys_days { 1997_y / 07 / 01 } + 0h ) - _J2000).count() , 31 },\n",
      "    std::pair{ duration_cast<seconds>( (sys_days { 1999_y / 01 / 01 } + 0h ) - _J2000).count() , 32 },\n",
      "    std::pair{ duration_cast<seconds>( (sys_days { 2006_y / 01 / 01 } + 0h ) - _J2000).count() , 33 },\n",
      "    std::pair{ duration_cast<seconds>( (sys_days { 2009_y / 01 / 01 } + 0h ) - _J2000).count() , 34 },\n",
      "    std::pair{ duration_cast<seconds>( (sys_days { 2012_y / 07 / 01 } + 0h ) - _J2000).count() , 35 },\n",
      "    std::pair{ duration_cast<seconds>( (sys_days { 2015_y / 07 / 01 } + 0h ) - _J2000).count() , 36 },\n",
      "    std::pair{ duration_cast<seconds>( (sys_days { 2017_y / 01 / 01 } + 0h ) - _J2000).count() , 37 },\n",
      "};\n"
     ]
    }
   ],
   "source": [
    "print(\"\"\"constexpr auto leap_seconds_J2000 = \n",
    "{\"\"\")\n",
    "for sec in leap_seconds.values: \n",
    "    date = str(Time(\"1900-01-01\") + timedelta(seconds=float(sec[0]+sec[1]))).split()[0].split('-')\n",
    "    print(f\"    std::pair{{ duration_cast<seconds>( (sys_days {{ {date[0]}_y / {date[1]} / {date[2]} }} + 0h ) - _J2000).count() , {sec[1]} }},\") \n",
    "print(\"\"\"};\"\"\")\n"
   ]
  }
 ],
 "metadata": {
  "kernelspec": {
   "display_name": "Python 3",
   "language": "python",
   "name": "python3"
  },
  "language_info": {
   "codemirror_mode": {
    "name": "ipython",
    "version": 3
   },
   "file_extension": ".py",
   "mimetype": "text/x-python",
   "name": "python",
   "nbconvert_exporter": "python",
   "pygments_lexer": "ipython3",
   "version": "3.7.6"
  }
 },
 "nbformat": 4,
 "nbformat_minor": 2
}
