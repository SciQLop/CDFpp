{
 "cells": [
  {
   "cell_type": "code",
   "execution_count": 1,
   "metadata": {
    "ExecuteTime": {
     "end_time": "2020-10-28T21:51:49.062198Z",
     "start_time": "2020-10-28T21:51:47.935758Z"
    }
   },
   "outputs": [
    {
     "data": {
      "text/plain": [
       "False"
      ]
     },
     "execution_count": 1,
     "metadata": {},
     "output_type": "execute_result"
    }
   ],
   "source": [
    "import sys\n",
    "sys.path.append('../../build-cdfpp-Desktop-debug/')\n",
    "import pycdfpp\n",
    "import pandas as pds\n",
    "from astropy.time import Time\n",
    "from datetime import timedelta,datetime\n",
    "import numpy as np\n",
    "from spacepy import pycdf\n",
    "import cppyy\n",
    "import cppyy.ll\n",
    "cppyy.ll.set_signals_as_exception(True)"
   ]
  },
  {
   "cell_type": "code",
   "execution_count": 2,
   "metadata": {
    "ExecuteTime": {
     "end_time": "2020-10-28T21:51:49.559581Z",
     "start_time": "2020-10-28T21:51:49.546824Z"
    }
   },
   "outputs": [],
   "source": [
    "def seconds_since_0_AD_no_leap(date_str):\n",
    "    date = Time(date_str)\n",
    "    if date_str[0:4] == \"0000\":\n",
    "        return (date - Time('0000-01-01 00:00:00', scale='tai')).sec\n",
    "    else:\n",
    "        dt = (date - Time('0000-01-01 00:00:00', scale='tai')).datetime\n",
    "        return dt.days * 86400 + date.datetime.hour * 3600 + date.datetime.minute * 60 + date.datetime.second\n",
    "\n",
    "\n",
    "def seconds_since_J2000(date_str):\n",
    "    date = Time(date_str, scale='utc')\n",
    "    return (date - Time('2000-01-01 11:59:27.816', scale='tai')).sec\n",
    "\n",
    "\n",
    "def split_date(date: datetime):\n",
    "    return date.year, date.month, date.day, date.hour, date.minute, date.second\n",
    "\n",
    "\n",
    "#leap_seconds = pds.read_csv(\"https://www.ietf.org/timezones/data/leap-seconds.list\", comment=\"#\", sep='\\t', names=[\"epoch\",\"offset\"], index_col=False)"
   ]
  },
  {
   "cell_type": "code",
   "execution_count": 3,
   "metadata": {
    "ExecuteTime": {
     "end_time": "2020-10-28T21:51:50.859398Z",
     "start_time": "2020-10-28T21:51:50.840886Z"
    }
   },
   "outputs": [
    {
     "data": {
      "text/plain": [
       "True"
      ]
     },
     "execution_count": 3,
     "metadata": {},
     "output_type": "execute_result"
    }
   ],
   "source": [
    "cppyy.add_include_path('../include/')\n",
    "cppyy.add_include_path('../date/include/')\n",
    "cppyy.add_include_path('../../build-cdfpp-Desktop-debug/')\n",
    "cppyy.add_include_path('/usr/local/cdf/include')\n",
    "cppyy.add_library_path('/usr/local/cdf/lib')\n",
    "cppyy.load_library('libcdf.so')"
   ]
  },
  {
   "cell_type": "code",
   "execution_count": 4,
   "metadata": {
    "ExecuteTime": {
     "end_time": "2020-10-28T21:51:53.067431Z",
     "start_time": "2020-10-28T21:51:52.366163Z"
    }
   },
   "outputs": [],
   "source": [
    "cppyy.cppdef(R'''\n",
    "#include <chrono>\n",
    "#include <ctime>\n",
    "#include \"cdf-chrono.hpp\"\n",
    "#include \"date/date.h\"\n",
    "#include <cdf.h>\n",
    "\n",
    "using namespace date;\n",
    "using namespace std::chrono;\n",
    "using namespace cdf;\n",
    "\n",
    "std::array dates = { \n",
    "    //sys_days { 0000_y / January / 1 } + 0h + 0min + 0s,\n",
    "    sys_days { 1_y / January / 1 } + 0h + 0min + 0s,\n",
    "    sys_days { 500_y / January / 1 } + 0h + 0min + 0s,\n",
    "    sys_days { 1500_y / January / 1 } + 0h + 0min + 0s,\n",
    "    sys_days { 1800_y / January / 1 } + 0h + 0min + 0s,\n",
    "    sys_days { 1900_y / January / 1 } + 0h + 0min + 0s,\n",
    "    sys_days { 1960_y / January / 1 } + 0h + 0min + 0s,\n",
    "    sys_days { 1961_y / January / 1 } + 0h + 0min + 0s,\n",
    "    sys_days { 1962_y / January / 1 } + 0h + 0min + 0s,\n",
    "    sys_days { 1968_y / January / 1 } + 0h + 0min + 0s,\n",
    "    sys_days { 1970_y / January / 1 } + 0h + 0min + 0s,\n",
    "    sys_days { 1986_y / January / 1 } + 0h + 0min + 0s,\n",
    "    sys_days { 1996_y / January / 1 } + 0h + 0min + 0s,\n",
    "    sys_days { 1996_y / October / 23 } + 8h + 19min + 3s,\n",
    "    sys_days { 1998_y / October / 23 } + 8h + 19min + 3s,\n",
    "    sys_days { 2000_y / January / 1 } + 12h + 0min + 0s,\n",
    "    sys_days { 2006_y / January / 1 } + 0h + 0min + 0s,\n",
    "    sys_days { 2010_y / January / 1 } + 0h + 0min + 0s,\n",
    "    sys_days { 2020_y / January / 1 } + 0h + 0min + 0s,\n",
    "    sys_days { 2000_y / January / 1 } + 0h + 0min + 0s,\n",
    "    sys_days { 2020_y / July / 25 } + 2h + 35min + 8s };\n",
    "    \n",
    "using date_t = decltype(*std::begin(dates));\n",
    "template<typename T>\n",
    "auto str(const T& date){\n",
    "    return format(\"%FT%T\", floor<seconds>(date));\n",
    "}\n",
    "\n",
    "long long to_tt2000(double year=2000.,double month=1.,double day=1.,double hour=12.,double minute=0.,double seconde=0.)\n",
    "{\n",
    "    return computeTT2000(year,month,day,hour,minute,seconde,TT2000END);\n",
    "}\n",
    "\n",
    "std::pair<double,double> to_epoch16(long year=2000,long month=1,long day=1,long hour=12,\n",
    "                                    long minute=0,long second=0, long msec=0, long microsec=0,\n",
    "                                    long nanosec=0, long picosec=0\n",
    "                                    )\n",
    "{\n",
    "    double epoch16[2];\n",
    "    computeEPOCH16(year,month,day,hour,minute,second,msec,microsec,nanosec,picosec,epoch16);\n",
    "    return {epoch16[0],epoch16[1]};\n",
    "}\n",
    "    \n",
    "''')\n",
    "\n",
    "from cppyy.gbl import cdf"
   ]
  },
  {
   "cell_type": "code",
   "execution_count": 5,
   "metadata": {
    "ExecuteTime": {
     "end_time": "2020-10-28T21:51:54.846124Z",
     "start_time": "2020-10-28T21:51:53.624901Z"
    }
   },
   "outputs": [
    {
     "data": {
      "text/plain": [
       "datetime.datetime(1970, 1, 1, 0, 0)"
      ]
     },
     "execution_count": 5,
     "metadata": {},
     "output_type": "execute_result"
    }
   ],
   "source": [
    "datetime.fromisoformat(cppyy.gbl.str(cppyy.gbl.dates[9]))"
   ]
  },
  {
   "cell_type": "code",
   "execution_count": 6,
   "metadata": {
    "ExecuteTime": {
     "end_time": "2020-10-28T21:51:56.644828Z",
     "start_time": "2020-10-28T21:51:56.079511Z"
    }
   },
   "outputs": [
    {
     "name": "stderr",
     "output_type": "stream",
     "text": [
      "WARNING: ErfaWarning: ERFA function \"dtf2d\" yielded 1 of \"dubious year (Note 6)\" [astropy._erfa.core]\n",
      "WARNING: ErfaWarning: ERFA function \"utctai\" yielded 1 of \"dubious year (Note 3)\" [astropy._erfa.core]\n"
     ]
    }
   ],
   "source": [
    "start = 9\n",
    "epochs = np.array([cdf.to_epoch(d).value for d in cppyy.gbl.dates])\n",
    "epochs16 = np.array([cdf.to_epoch16(d).seconds for d in cppyy.gbl.dates])\n",
    "tt2000s = np.array([\n",
    "    cdf.to_tt2000(d).value / (1000 * 1000 * 1000) for d in cppyy.gbl.dates\n",
    "])[start:]\n",
    "\n",
    "ref_tt2000s = np.array(\n",
    "    [seconds_since_J2000(cppyy.gbl.str(d)) for d in cppyy.gbl.dates])[start:]\n",
    "cdf_tt2000s = np.array([\n",
    "    cppyy.gbl.to_tt2000(*split_date(datetime.fromisoformat(cppyy.gbl.str(d))))\n",
    "    for d in cppyy.gbl.dates\n",
    "])[start:] / 1000000000"
   ]
  },
  {
   "cell_type": "code",
   "execution_count": 7,
   "metadata": {
    "ExecuteTime": {
     "end_time": "2020-10-28T21:51:57.704944Z",
     "start_time": "2020-10-28T21:51:57.697756Z"
    }
   },
   "outputs": [
    {
     "data": {
      "text/plain": [
       "(array([-9.99917984e-01,  0.00000000e+00,  0.00000000e+00,  0.00000000e+00,\n",
       "         0.00000000e+00, -1.57740487e-12,  0.00000000e+00,  0.00000000e+00,\n",
       "         0.00000000e+00,  0.00000000e+00,  0.00000000e+00]),\n",
       " array([-0.99862194,  0.        ,  0.        ,  0.        ,  0.        ,\n",
       "         0.        ,  0.        ,  0.        ,  0.        ,  0.        ,\n",
       "         0.        ]),\n",
       " array([-1.29604340e-03,  0.00000000e+00,  0.00000000e+00,  0.00000000e+00,\n",
       "         0.00000000e+00, -1.57740487e-12,  0.00000000e+00,  0.00000000e+00,\n",
       "         0.00000000e+00,  0.00000000e+00,  0.00000000e+00]))"
      ]
     },
     "execution_count": 7,
     "metadata": {},
     "output_type": "execute_result"
    }
   ],
   "source": [
    "ref_tt2000s - tt2000s, cdf_tt2000s - tt2000s, ref_tt2000s - cdf_tt2000s"
   ]
  },
  {
   "cell_type": "code",
   "execution_count": 8,
   "metadata": {
    "ExecuteTime": {
     "end_time": "2020-10-28T21:52:02.072858Z",
     "start_time": "2020-10-28T21:52:01.041100Z"
    }
   },
   "outputs": [
    {
     "data": {
      "text/plain": [
       "('1996-01-01T00:00:00', '1996-01-01T00:00:00')"
      ]
     },
     "execution_count": 8,
     "metadata": {},
     "output_type": "execute_result"
    }
   ],
   "source": [
    "d=cppyy.gbl.dates[11]\n",
    "d2=cdf.to_time_point(cdf.to_tt2000(d))\n",
    "cppyy.gbl.str(d),cppyy.gbl.str(d2)"
   ]
  },
  {
   "cell_type": "code",
   "execution_count": 8,
   "metadata": {
    "ExecuteTime": {
     "end_time": "2020-10-28T18:43:00.647307Z",
     "start_time": "2020-10-28T18:43:00.639216Z"
    }
   },
   "outputs": [
    {
     "name": "stdout",
     "output_type": "stream",
     "text": [
      "2000-01-01 12:00:00\n"
     ]
    }
   ],
   "source": [
    "d=cppyy.gbl.dates[13]\n",
    "date = datetime.fromisoformat(cppyy.gbl.str(d))\n",
    "print(date)\n",
    "pycdf_tt2000 = pycdf.lib.datetime_to_tt2000(date)/1000000000\n",
    "astropy_tt2000 = seconds_since_J2000(str(date))\n",
    "my_tt2000 = cdf.to_tt2000(d).value/1000000000"
   ]
  },
  {
   "cell_type": "code",
   "execution_count": 13,
   "metadata": {
    "ExecuteTime": {
     "end_time": "2020-10-28T18:43:35.595295Z",
     "start_time": "2020-10-28T18:43:35.588082Z"
    }
   },
   "outputs": [
    {
     "data": {
      "text/plain": [
       "64.18399999999842"
      ]
     },
     "execution_count": 13,
     "metadata": {},
     "output_type": "execute_result"
    }
   ],
   "source": [
    "seconds_since_J2000(datetime(2000,1,1,12))"
   ]
  },
  {
   "cell_type": "code",
   "execution_count": 15,
   "metadata": {
    "ExecuteTime": {
     "end_time": "2020-10-28T19:20:58.933702Z",
     "start_time": "2020-10-28T19:20:58.926557Z"
    }
   },
   "outputs": [
    {
     "data": {
      "text/plain": [
       "-126273537.816"
      ]
     },
     "execution_count": 15,
     "metadata": {},
     "output_type": "execute_result"
    }
   ],
   "source": [
    "seconds_since_J2000(datetime(1996,1,1,0,0))"
   ]
  },
  {
   "cell_type": "code",
   "execution_count": 10,
   "metadata": {
    "ExecuteTime": {
     "end_time": "2020-10-28T18:43:06.449199Z",
     "start_time": "2020-10-28T18:43:06.443679Z"
    }
   },
   "outputs": [
    {
     "data": {
      "text/plain": [
       "(64.184, 64.184)"
      ]
     },
     "execution_count": 10,
     "metadata": {},
     "output_type": "execute_result"
    }
   ],
   "source": [
    "pycdf_tt2000,my_tt2000"
   ]
  },
  {
   "cell_type": "code",
   "execution_count": 11,
   "metadata": {
    "ExecuteTime": {
     "end_time": "2020-10-28T18:43:10.121380Z",
     "start_time": "2020-10-28T18:43:10.115825Z"
    }
   },
   "outputs": [
    {
     "data": {
      "text/plain": [
       "0.0"
      ]
     },
     "execution_count": 11,
     "metadata": {},
     "output_type": "execute_result"
    }
   ],
   "source": [
    "my_tt2000 - pycdf_tt2000"
   ]
  },
  {
   "cell_type": "code",
   "execution_count": 16,
   "metadata": {
    "ExecuteTime": {
     "end_time": "2020-10-28T18:33:58.044839Z",
     "start_time": "2020-10-28T18:33:58.019843Z"
    }
   },
   "outputs": [
    {
     "data": {
      "text/plain": [
       "64.184"
      ]
     },
     "execution_count": 16,
     "metadata": {},
     "output_type": "execute_result"
    }
   ],
   "source": [
    "cppyy.gbl.to_tt2000(2000.,1.,1.)/1000000000"
   ]
  },
  {
   "cell_type": "code",
   "execution_count": 15,
   "metadata": {
    "ExecuteTime": {
     "end_time": "2020-10-28T15:44:10.615686Z",
     "start_time": "2020-10-28T15:44:10.605337Z"
    }
   },
   "outputs": [
    {
     "data": {
      "text/plain": [
       "63.184"
      ]
     },
     "execution_count": 15,
     "metadata": {},
     "output_type": "execute_result"
    }
   ],
   "source": [
    "cppyy.gbl.to_tt2000(2000.,1.,1.,11.,59.,59.)/1000000000"
   ]
  },
  {
   "cell_type": "code",
   "execution_count": 16,
   "metadata": {
    "ExecuteTime": {
     "end_time": "2020-10-28T15:44:10.955641Z",
     "start_time": "2020-10-28T15:44:10.942314Z"
    }
   },
   "outputs": [
    {
     "data": {
      "text/plain": [
       "63.184"
      ]
     },
     "execution_count": 16,
     "metadata": {},
     "output_type": "execute_result"
    }
   ],
   "source": [
    "cppyy.gbl.to_tt2000(2000.,1.,1.,11.,59.,59.)/1000000000"
   ]
  },
  {
   "cell_type": "code",
   "execution_count": 17,
   "metadata": {
    "ExecuteTime": {
     "end_time": "2020-10-28T15:44:11.373788Z",
     "start_time": "2020-10-28T15:44:11.300178Z"
    }
   },
   "outputs": [
    {
     "data": {
      "text/plain": [
       "631152000.0"
      ]
     },
     "execution_count": 17,
     "metadata": {},
     "output_type": "execute_result"
    }
   ],
   "source": [
    "cppyy.gbl.to_epoch16(2020,1,1,12,0,0).first - cppyy.gbl.to_epoch16(2000,1,1,12,0,0).first"
   ]
  },
  {
   "cell_type": "code",
   "execution_count": 18,
   "metadata": {
    "ExecuteTime": {
     "end_time": "2020-10-28T15:44:11.750854Z",
     "start_time": "2020-10-28T15:44:11.742901Z"
    }
   },
   "outputs": [
    {
     "data": {
      "text/plain": [
       "631152069.184"
      ]
     },
     "execution_count": 18,
     "metadata": {},
     "output_type": "execute_result"
    }
   ],
   "source": [
    "cppyy.gbl.to_tt2000(2020.,1.,1.,12.,0.,0.)/1000000000"
   ]
  },
  {
   "cell_type": "code",
   "execution_count": 19,
   "metadata": {
    "ExecuteTime": {
     "end_time": "2020-10-28T15:44:12.148517Z",
     "start_time": "2020-10-28T15:44:12.141736Z"
    }
   },
   "outputs": [
    {
     "data": {
      "text/plain": [
       "631022469.184"
      ]
     },
     "execution_count": 19,
     "metadata": {},
     "output_type": "execute_result"
    }
   ],
   "source": [
    "cppyy.gbl.to_tt2000(2019.,12.,31.,0.,0.,0.)/1000000000"
   ]
  },
  {
   "cell_type": "code",
   "execution_count": 14,
   "metadata": {
    "ExecuteTime": {
     "end_time": "2020-10-28T19:20:17.864732Z",
     "start_time": "2020-10-28T19:20:17.856992Z"
    }
   },
   "outputs": [
    {
     "data": {
      "text/plain": [
       "datetime.timedelta(seconds=64, microseconds=184000)"
      ]
     },
     "execution_count": 14,
     "metadata": {},
     "output_type": "execute_result"
    }
   ],
   "source": [
    "datetime(2000,1,1,12,0,0,0)-datetime(2000,1,1,11,58,55,816000)"
   ]
  }
 ],
 "metadata": {
  "kernelspec": {
   "display_name": "Python 3",
   "language": "python",
   "name": "python3"
  },
  "language_info": {
   "codemirror_mode": {
    "name": "ipython",
    "version": 3
   },
   "file_extension": ".py",
   "mimetype": "text/x-python",
   "name": "python",
   "nbconvert_exporter": "python",
   "pygments_lexer": "ipython3",
   "version": "3.9.0"
  },
  "varInspector": {
   "cols": {
    "lenName": 16,
    "lenType": 16,
    "lenVar": 40
   },
   "kernels_config": {
    "python": {
     "delete_cmd_postfix": "",
     "delete_cmd_prefix": "del ",
     "library": "var_list.py",
     "varRefreshCmd": "print(var_dic_list())"
    },
    "r": {
     "delete_cmd_postfix": ") ",
     "delete_cmd_prefix": "rm(",
     "library": "var_list.r",
     "varRefreshCmd": "cat(var_dic_list()) "
    }
   },
   "types_to_exclude": [
    "module",
    "function",
    "builtin_function_or_method",
    "instance",
    "_Feature"
   ],
   "window_display": false
  }
 },
 "nbformat": 4,
 "nbformat_minor": 4
}
