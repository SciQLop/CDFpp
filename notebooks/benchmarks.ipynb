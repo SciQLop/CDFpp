{
 "cells": [
  {
   "cell_type": "code",
   "execution_count": 1,
   "id": "373851a0-d0f2-4c40-a2f8-4647ff7b324f",
   "metadata": {},
   "outputs": [],
   "source": [
    "import os\n",
    "import timeit\n",
    "from datetime import timedelta\n",
    "\n",
    "import cdflib\n",
    "import humanize\n",
    "import matplotlib.pyplot as plt\n",
    "import pycdfpp\n",
    "import requests\n",
    "from spacepy import pycdf"
   ]
  },
  {
   "cell_type": "code",
   "execution_count": 78,
   "id": "8d0a9887-080a-4805-8921-b62378ea20cb",
   "metadata": {},
   "outputs": [
    {
     "name": "stderr",
     "output_type": "stream",
     "text": [
      "  % Total    % Received % Xferd  Average Speed   Time    Time     Time  Current\n",
      "                                 Dload  Upload   Total   Spent    Left  Speed\n",
      "100  304M  100  304M    0     0   111M      0  0:00:02  0:00:02 --:--:--  111M\n",
      "  % Total    % Received % Xferd  Average Speed   Time    Time     Time  Current\n",
      "                                 Dload  Upload   Total   Spent    Left  Speed\n",
      "100 2420k  100 2420k    0     0  60.3M      0 --:--:-- --:--:-- --:--:-- 60.6M\n",
      "  % Total    % Received % Xferd  Average Speed   Time    Time     Time  Current\n",
      "                                 Dload  Upload   Total   Spent    Left  Speed\n",
      "100 50.4M  100 50.4M    0     0  98.2M      0 --:--:-- --:--:-- --:--:-- 98.1M\n"
     ]
    }
   ],
   "source": [
    "%%bash\n",
    "mkdir -p /tmp/cdfpp\n",
    "curl https://hephaistos.lpp.polytechnique.fr/data/mirrors/CDF/test_files/po_h9_pwi_1997010103_v01.cdf > /tmp/cdfpp/po_h9_pwi_1997010103_v01.cdf\n",
    "curl https://hephaistos.lpp.polytechnique.fr/data/mirrors/CDF/test_files/bigcdf_compressed.cdf > /tmp/cdfpp/bigcdf_compressed.cdf\n",
    "curl https://hephaistos.lpp.polytechnique.fr/data/mirrors/CDF/test_files/mms1_scm_srvy_l2_scsrvy_20190301_v2.2.0.cdf > /tmp/cdfpp/mms1_scm_srvy_l2_scsrvy_20190301_v2.2.0.cdf"
   ]
  },
  {
   "cell_type": "code",
   "execution_count": 2,
   "id": "b05d5b17-a5b5-4976-9ae7-a455cd3710cd",
   "metadata": {},
   "outputs": [],
   "source": [
    "cdf_corpus = (\n",
    "    \"/tmp/cdfpp/po_h9_pwi_1997010103_v01.cdf\",\n",
    "    \"/tmp/cdfpp/bigcdf_compressed.cdf\",\n",
    "    \"/tmp/cdfpp/mms1_scm_srvy_l2_scsrvy_20190301_v2.2.0.cdf\",\n",
    ")"
   ]
  },
  {
   "cell_type": "code",
   "execution_count": 3,
   "id": "2b284a3c-f88e-4330-8232-9f7ae5dd7c06",
   "metadata": {},
   "outputs": [],
   "source": [
    "class CdfLib:\n",
    "    @staticmethod\n",
    "    def just_open(fname):\n",
    "        c = cdflib.CDF(fname)\n",
    "\n",
    "    @staticmethod\n",
    "    def list_variables(fname):\n",
    "        c = cdflib.CDF(fname)\n",
    "        cdf_info = c.cdf_info()\n",
    "        variables = cdf_info.rVariables + cdf_info.zVariables\n",
    "\n",
    "    @staticmethod\n",
    "    def get_var_shape(fname, varname):\n",
    "        shape = cdflib.CDF(fname).varinq(varname).Dim_Sizes\n",
    "\n",
    "    @staticmethod\n",
    "    def get_var_data(fname, varname, ntimes=1):\n",
    "        c = cdflib.CDF(fname)\n",
    "        for _ in range(ntimes):\n",
    "            values = c.varget(varname)\n",
    "\n",
    "\n",
    "class SpacePy:\n",
    "    @staticmethod\n",
    "    def just_open(fname):\n",
    "        c = pycdf.CDF(fname)\n",
    "\n",
    "    @staticmethod\n",
    "    def list_variables(fname):\n",
    "        variables = list(pycdf.CDF(fname))\n",
    "\n",
    "    @staticmethod\n",
    "    def get_var_shape(fname, varname):\n",
    "        shape = pycdf.CDF(fname)[varname].shape\n",
    "\n",
    "    @staticmethod\n",
    "    def get_var_data(fname, varname, ntimes=1):\n",
    "        c = pycdf.CDF(fname)\n",
    "        for _ in range(ntimes):\n",
    "            values = c[varname][:]\n",
    "\n",
    "\n",
    "class PyCdfPp:\n",
    "    @staticmethod\n",
    "    def just_open(fname):\n",
    "        c = pycdfpp.load(fname)\n",
    "\n",
    "    @staticmethod\n",
    "    def list_variables(fname):\n",
    "        variables = list(pycdfpp.load(fname))\n",
    "\n",
    "    @staticmethod\n",
    "    def get_var_shape(fname, varname):\n",
    "        shape = pycdfpp.load(fname)[varname].shape\n",
    "\n",
    "    @staticmethod\n",
    "    def get_var_data(fname, varname, ntimes=1):\n",
    "        c = pycdfpp.load(fname)\n",
    "        for _ in range(ntimes):\n",
    "            values = c[varname].values"
   ]
  },
  {
   "cell_type": "code",
   "execution_count": 4,
   "id": "cca372d4-39d5-4812-b790-d8fa00f12673",
   "metadata": {},
   "outputs": [],
   "source": [
    "def bench_method(method, cdf_file, number=1000, **kwargs):\n",
    "    return dict(\n",
    "        sorted(\n",
    "            [\n",
    "                (\n",
    "                    lib.__name__,\n",
    "                    timeit.timeit(\n",
    "                        lambda: getattr(lib, method)(cdf_file, **kwargs), number=number\n",
    "                    )\n",
    "                    / number,\n",
    "                )\n",
    "                for lib in (CdfLib, SpacePy, PyCdfPp)\n",
    "            ],\n",
    "            key=lambda item: item[1],\n",
    "        )\n",
    "    )"
   ]
  },
  {
   "cell_type": "code",
   "execution_count": 5,
   "id": "5d8d37cc-cb6a-441f-b4dc-642a289c7e92",
   "metadata": {},
   "outputs": [
    {
     "name": "stdout",
     "output_type": "stream",
     "text": [
      "/tmp/cdfpp/po_h9_pwi_1997010103_v01.cdf: {'CdfLib': 5.571011919528246e-05, 'PyCdfPp': 0.0001119840401224792, 'SpacePy': 0.0007014661887660622}\n",
      "/tmp/cdfpp/bigcdf_compressed.cdf: {'PyCdfPp': 1.360954949632287e-05, 'CdfLib': 3.652547020465136e-05, 'SpacePy': 0.0031634629890322685}\n",
      "/tmp/cdfpp/mms1_scm_srvy_l2_scsrvy_20190301_v2.2.0.cdf: {'CdfLib': 3.510304028168321e-05, 'PyCdfPp': 6.58831000328064e-05, 'SpacePy': 0.06256008113035932}\n"
     ]
    }
   ],
   "source": [
    "for file in cdf_corpus:\n",
    "    print(f\"{file}: {bench_method('just_open', file, number=100)}\")"
   ]
  },
  {
   "cell_type": "code",
   "execution_count": 6,
   "id": "105b660c-5187-44d0-9a23-8fee9483b7f3",
   "metadata": {},
   "outputs": [
    {
     "name": "stdout",
     "output_type": "stream",
     "text": [
      "/tmp/cdfpp/po_h9_pwi_1997010103_v01.cdf: {'PyCdfPp': 0.0001295154611580074, 'CdfLib': 0.0002565167797729373, 'SpacePy': 0.0007644712389446795}\n",
      "/tmp/cdfpp/bigcdf_compressed.cdf: {'PyCdfPp': 2.1287400741130114e-05, 'CdfLib': 4.239337053149939e-05, 'SpacePy': 0.0031737738801166414}\n",
      "/tmp/cdfpp/mms1_scm_srvy_l2_scsrvy_20190301_v2.2.0.cdf: {'PyCdfPp': 7.636548951268197e-05, 'CdfLib': 0.00025656206998974084, 'SpacePy': 0.062447749180719256}\n"
     ]
    }
   ],
   "source": [
    "for file in cdf_corpus:\n",
    "    print(f\"{file}: {bench_method('list_variables', file, number=100)}\")"
   ]
  },
  {
   "cell_type": "code",
   "execution_count": 13,
   "id": "3b419883-481b-4d30-b888-03f96a4ec108",
   "metadata": {},
   "outputs": [
    {
     "data": {
      "text/plain": [
       "{'CdfLib': 7.38048373023048e-05,\n",
       " 'PyCdfPp': 0.00011609705919399858,\n",
       " 'SpacePy': 0.0006526564202038571}"
      ]
     },
     "execution_count": 13,
     "metadata": {},
     "output_type": "execute_result"
    }
   ],
   "source": [
    "bench_method(\n",
    "    \"get_var_shape\",\n",
    "    \"/tmp/cdfpp/po_h9_pwi_1997010103_v01.cdf\",\n",
    "    varname=\"WBR_Elec\",\n",
    "    number=10000,\n",
    ")"
   ]
  },
  {
   "cell_type": "code",
   "execution_count": 14,
   "id": "66c09a8e-2d50-40c8-a748-c00466986366",
   "metadata": {},
   "outputs": [
    {
     "data": {
      "text/plain": [
       "{'PyCdfPp': 0.3304803824983537,\n",
       " 'SpacePy': 2.016764428804163,\n",
       " 'CdfLib': 2.0822215156047603}"
      ]
     },
     "execution_count": 14,
     "metadata": {},
     "output_type": "execute_result"
    }
   ],
   "source": [
    "bench_method(\n",
    "    \"get_var_data\",\n",
    "    \"/tmp/cdfpp/po_h9_pwi_1997010103_v01.cdf\",\n",
    "    varname=\"WBR_Elec\",\n",
    "    number=10,\n",
    ")"
   ]
  },
  {
   "cell_type": "code",
   "execution_count": 15,
   "id": "9d155285-3a55-4339-856b-524957608b06",
   "metadata": {},
   "outputs": [
    {
     "data": {
      "text/plain": [
       "{'PyCdfPp': 0.3278890200308524,\n",
       " 'SpacePy': 6.021094444964547,\n",
       " 'CdfLib': 6.262833864486311}"
      ]
     },
     "execution_count": 15,
     "metadata": {},
     "output_type": "execute_result"
    }
   ],
   "source": [
    "bench_method(\n",
    "    \"get_var_data\",\n",
    "    \"/tmp/cdfpp/po_h9_pwi_1997010103_v01.cdf\",\n",
    "    varname=\"WBR_Elec\",\n",
    "    ntimes=3,\n",
    "    number=2,\n",
    ")"
   ]
  },
  {
   "cell_type": "code",
   "execution_count": 35,
   "id": "e50b37d5-8801-48ca-941e-2347af02d134",
   "metadata": {},
   "outputs": [],
   "source": [
    "fname = \"/tmp/cdfpp/po_h9_pwi_1997010103_v01.cdf\""
   ]
  },
  {
   "cell_type": "code",
   "execution_count": 36,
   "id": "8c6d13e2-c548-418c-bfd6-6eec1a33f628",
   "metadata": {},
   "outputs": [],
   "source": [
    "c = cdflib.CDF(fname)"
   ]
  },
  {
   "cell_type": "code",
   "execution_count": 40,
   "id": "7287533f-000b-480d-8ae8-0609bfabd3e1",
   "metadata": {},
   "outputs": [
    {
     "data": {
      "text/plain": [
       "['Epoch',\n",
       " 'Delta_T',\n",
       " 'Sample_rate',\n",
       " 'FilterMode',\n",
       " 'DATA_MODE',\n",
       " 'WBR_Ant',\n",
       " 'Gain1',\n",
       " 'Gain2',\n",
       " 'Translation',\n",
       " 'NumPoints',\n",
       " 'DATA_QUALITY',\n",
       " 'WBR_Elec',\n",
       " 'WBR_Mag',\n",
       " 'Num_Snap',\n",
       " 'FFT_size',\n",
       " 'Data_No']"
      ]
     },
     "execution_count": 40,
     "metadata": {},
     "output_type": "execute_result"
    }
   ],
   "source": [
    "c.cdf_info().rVariables"
   ]
  },
  {
   "cell_type": "code",
   "execution_count": 43,
   "id": "199a8a08-7c60-413e-abd3-e4983bc1fbb8",
   "metadata": {},
   "outputs": [
    {
     "data": {
      "text/plain": [
       "VDRInfo(Variable='WBR_Mag', Num=12, Var_Type='rVariable', Data_Type=21, Data_Type_Description='CDF_REAL4', Num_Elements=1, Num_Dims=1, Dim_Sizes=[3984], Sparse='No_sparse', Last_Rec=-1, Rec_Vary=False, Dim_Vary=[True], Compress=1, Pad=array([-1.e+31], dtype=float32), Block_Factor=1)"
      ]
     },
     "execution_count": 43,
     "metadata": {},
     "output_type": "execute_result"
    }
   ],
   "source": [
    "c.varinq(\"WBR_Mag\")"
   ]
  },
  {
   "cell_type": "code",
   "execution_count": 44,
   "id": "263a8bf8-25bf-41c0-b17d-a812795a1a6f",
   "metadata": {},
   "outputs": [],
   "source": [
    "c = pycdf.CDF(fname)"
   ]
  },
  {
   "cell_type": "code",
   "execution_count": 47,
   "id": "ceadc933-2074-474b-bcf1-ee9cb0d157bd",
   "metadata": {},
   "outputs": [
    {
     "data": {
      "text/plain": [
       "(3984,)"
      ]
     },
     "execution_count": 47,
     "metadata": {},
     "output_type": "execute_result"
    }
   ],
   "source": [
    "c[\"WBR_Mag\"].shape"
   ]
  },
  {
   "cell_type": "code",
   "execution_count": 56,
   "id": "d76a8aa5-e301-46a4-bc0f-34ccdad2f103",
   "metadata": {},
   "outputs": [
    {
     "data": {
      "text/plain": [
       "CDF:\n",
       "version: 2.6.2\n",
       "majority: row\n",
       "\n",
       "Attributes:\n",
       "\tRules_of_use: \" \"\n",
       "\tAcknowledgement: \" \"\n",
       "\tHTTP_LINK: [ [ \"http://www-pw.physics.uiowa.edu/plasma-wave/istp/polar/home.html\", \"http:/www-pw.physics.uiowa.edu/plasma-wave/istp/polar/interpretation.html\" ] ]\n",
       "\tTEXT_supplement_1: \" \"\n",
       "\tTime_resolution: \"1.0/Sample_rate\"\n",
       "\tGenerated_by: \" \"\n",
       "\tMission_group: \"Polar\"\n",
       "\tTITLE: \"POLAR PWI WBR\"\n",
       "\tProject: \"ISTP>International Solar-Terrestrial Physics\"\n",
       "\tDiscipline: \"Space Physics>Magnetospheric Science\"\n",
       "\tInstrument_type: \"Radio and Plasma Waves (space)\"\n",
       "\tMODS: \"Created Dec 2003\"\n",
       "\tLINK_TEXT: \" \"\n",
       "\tLINK_TITLE: \" \"\n",
       "\tGeneration_date: \"20 April, 2004\"\n",
       "\tData_type: \"H9>High Resolution Data\"\n",
       "\tLogical_source_description: \"Polar Plasma Wave Instrument, High Frequency Waveform Receiver\"\n",
       "\tDescriptor: \"PWI>Plasma Wave Instrument\"\n",
       "\tData_version: \"1\"\n",
       "\tLogical_file_id: \"PO_H9_PWI_1996032614_V01\"\n",
       "\tTEXT: [ [ \"Reference:..Gurnett, D.A. et al, The Polar plasma wave instrument, Space Science Reviews, Vol. 71, pp. 597-622, 1995.GURNETT@IOWAVE.physics.uiowa.edu\", \"An FFT on 1992 values was used in calibrating the data; i.e., perform FFT, calibrate in frequency domain, perform inverse FFT to get calibrated time series.\", \"Effective Bandwidth is 1.5*delta_f, where delta_f depends on the size of the FFT used to convert to the frequency domain, and delta_t.\", \"Coordinate system used:  antenna coordinate system, where the u-axis is offset by -45 degrees from the spacecraft x-axis, the v-axis is offset by -45 degrees from the spacecraft y-axis, and the z-axis is identical to the spacecraft z-axis.\", \"This data comes in snapshots of 1992 or 3984 points every 0.064 seconds.  Duration of a snapshot is less when the instrument is in duty cycle modes.  Since Epoch time is in milliseconds, the times for the data points will not be unique unless the fmsec (fraction of milliseconds) is appended to the Epoch0 time for that point.\", \"The frequency filters used for the wideband receiver have a range that limits the calibration.  The following table specifies the range of frequencies for which the calibration is certified.  Outside this range the amplitude values may be in error and should not be used.  (Translation, Filter, Freq Range) (0 kHz, 90 kHz, 7.5 kHz-90.0 kHz) (125 kHz, 90 kHz, 131.9 kHz-214.8 kHz) (250 kHz, 90 kHz, 254.3 kHz-341.2 kHz) (500 kHz, 90 kHz, 504.79 kHz-591.1 kHz) (0 kHz, 10 kHz, 0.035 kHz-11.64 kHz) (0 kHz, 22 kHz, 0.065 kHz-21.59 kHz) (0 kHz, 1-3 kHz, 1.0 kHz-3.0 kHz) (0 kHz, 3-6 kHz, 3.0 kHz-6.0 kHz) \" ] ]\n",
       "\tPI_affiliation: \"U. Iowa\"\n",
       "\tADID_ref: \"NSSD0171\"\n",
       "\tPI_name: \"D. Gurnett\"\n",
       "\tSource_name: \"POLAR>Polar Plasma Laboratory\"\n",
       "\tLogical_source: \"PO_H9_PWI\"\n",
       "\n",
       "Variables:\n",
       "\tData_No: ([ 1, 3984 ]) [CDF_INT1]\n",
       "\tFFT_size: ([ 1 ]) [CDF_INT1]\n",
       "\tNum_Snap: ([ 1 ]) [CDF_INT1]\n",
       "\tEpoch: ([ 42506 ]) [CDF_EPOCH]\n",
       "\tTranslation: ([ 42506 ]) [CDF_INT1]\n",
       "\tNumPoints: ([ 42506 ]) [CDF_INT1]\n",
       "\tDelta_T: ([ 42506 ]) [CDF_REAL8]\n",
       "\tWBR_Elec: ([ 42506, 3984 ]) [CDF_REAL4]\n",
       "\tDATA_QUALITY: ([ 42506, 3984 ]) [CDF_BYTE]\n",
       "\tSample_rate: ([ 42506 ]) [CDF_REAL4]\n",
       "\tFilterMode: ([ 42506 ]) [CDF_BYTE]\n",
       "\tGain2: ([ 42506 ]) [CDF_BYTE]\n",
       "\tDATA_MODE: ([ 42506 ]) [CDF_BYTE]\n",
       "\tGain1: ([ 42506 ]) [CDF_BYTE]\n",
       "\tWBR_Ant: ([ 42506 ]) [CDF_BYTE]\n",
       "\tWBR_Mag: ([ 1, 3984 ]) [CDF_REAL4]\n"
      ]
     },
     "execution_count": 56,
     "metadata": {},
     "output_type": "execute_result"
    }
   ],
   "source": [
    "pycdfpp.load(fname)"
   ]
  }
 ],
 "metadata": {
  "kernelspec": {
   "display_name": "Python 3 (ipykernel)",
   "language": "python",
   "name": "python3"
  },
  "language_info": {
   "codemirror_mode": {
    "name": "ipython",
    "version": 3
   },
   "file_extension": ".py",
   "mimetype": "text/x-python",
   "name": "python",
   "nbconvert_exporter": "python",
   "pygments_lexer": "ipython3",
   "version": "3.11.4"
  }
 },
 "nbformat": 4,
 "nbformat_minor": 5
}
