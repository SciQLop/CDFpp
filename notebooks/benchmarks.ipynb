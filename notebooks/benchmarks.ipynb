{
 "cells": [
  {
   "cell_type": "code",
   "execution_count": 1,
   "id": "373851a0-d0f2-4c40-a2f8-4647ff7b324f",
   "metadata": {},
   "outputs": [],
   "source": [
    "import pycdfpp\n",
    "import cdflib\n",
    "from spacepy import pycdf\n",
    "import timeit\n",
    "import matplotlib.pyplot as plt \n",
    "import requests\n",
    "import os"
   ]
  },
  {
   "cell_type": "code",
   "execution_count": 2,
   "id": "8d0a9887-080a-4805-8921-b62378ea20cb",
   "metadata": {},
   "outputs": [
    {
     "name": "stderr",
     "output_type": "stream",
     "text": [
      "  % Total    % Received % Xferd  Average Speed   Time    Time     Time  Current\n",
      "                                 Dload  Upload   Total   Spent    Left  Speed\n",
      "100  304M  100  304M    0     0   111M      0  0:00:02  0:00:02 --:--:--  111M\n"
     ]
    }
   ],
   "source": [
    "%%bash\n",
    "mkdir -p /tmp/cdfpp\n",
    "curl https://hephaistos.lpp.polytechnique.fr/data/mirrors/CDF/test_files/po_h9_pwi_1997010103_v01.cdf > /tmp/cdfpp/po_h9_pwi_1997010103_v01.cdf"
   ]
  },
  {
   "cell_type": "code",
   "execution_count": 2,
   "id": "2b284a3c-f88e-4330-8232-9f7ae5dd7c06",
   "metadata": {},
   "outputs": [],
   "source": [
    "def cdflib_just_open(fname):\n",
    "    c = cdflib.CDF(fname)\n",
    "\n",
    "def spacepy_just_open(fname):\n",
    "    c = pycdf.CDF(fname)\n",
    "\n",
    "def pycdfpp_just_open(fname):\n",
    "    c = pycdfpp.load(fname)"
   ]
  },
  {
   "cell_type": "code",
   "execution_count": 3,
   "id": "cca372d4-39d5-4812-b790-d8fa00f12673",
   "metadata": {},
   "outputs": [
    {
     "data": {
      "text/plain": [
       "1.0989350419258699"
      ]
     },
     "execution_count": 3,
     "metadata": {},
     "output_type": "execute_result"
    }
   ],
   "source": [
    "timeit.timeit(lambda: pycdfpp_just_open('/tmp/cdfpp/po_h9_pwi_1997010103_v01.cdf'), number=10000)"
   ]
  },
  {
   "cell_type": "code",
   "execution_count": 4,
   "id": "7f3f980b-33ec-41de-a687-69bdf7b7ef61",
   "metadata": {},
   "outputs": [
    {
     "data": {
      "text/plain": [
       "0.3326520000118762"
      ]
     },
     "execution_count": 4,
     "metadata": {},
     "output_type": "execute_result"
    }
   ],
   "source": [
    "timeit.timeit(lambda: cdflib_just_open('/tmp/cdfpp/po_h9_pwi_1997010103_v01.cdf'), number=10000)"
   ]
  },
  {
   "cell_type": "code",
   "execution_count": 5,
   "id": "a2ea5e40-2682-4762-ba37-9317d8c7da25",
   "metadata": {},
   "outputs": [
    {
     "data": {
      "text/plain": [
       "5.858953066985123"
      ]
     },
     "execution_count": 5,
     "metadata": {},
     "output_type": "execute_result"
    }
   ],
   "source": [
    "timeit.timeit(lambda: spacepy_just_open('/tmp/cdfpp/po_h9_pwi_1997010103_v01.cdf'), number=10000)"
   ]
  },
  {
   "cell_type": "code",
   "execution_count": 6,
   "id": "0ec96c2e-c427-4b00-9c67-49993b17b6b0",
   "metadata": {},
   "outputs": [],
   "source": [
    "def cdflib_list_variables(fname):\n",
    "    c = cdflib.CDF(fname)\n",
    "    cdf_info = c.cdf_info()\n",
    "    variables = cdf_info.rVariables + cdf_info.zVariables\n",
    "\n",
    "def spacepy_list_variables(fname):\n",
    "    variables = list(pycdf.CDF(fname))\n",
    "\n",
    "def pycdfpp_list_variables(fname):\n",
    "    variables = list(pycdfpp.load(fname))\n",
    "    "
   ]
  },
  {
   "cell_type": "code",
   "execution_count": 7,
   "id": "dfdbf1df-4b16-48ea-9339-634bfd16298d",
   "metadata": {},
   "outputs": [
    {
     "data": {
      "text/plain": [
       "1.2540769890183583"
      ]
     },
     "execution_count": 7,
     "metadata": {},
     "output_type": "execute_result"
    }
   ],
   "source": [
    "timeit.timeit(lambda: pycdfpp_list_variables('/tmp/cdfpp/po_h9_pwi_1997010103_v01.cdf'), number=10000)"
   ]
  },
  {
   "cell_type": "code",
   "execution_count": 8,
   "id": "08c38d7e-e4c1-4927-90f8-ad8c16a25b62",
   "metadata": {},
   "outputs": [
    {
     "data": {
      "text/plain": [
       "1.7590590990148485"
      ]
     },
     "execution_count": 8,
     "metadata": {},
     "output_type": "execute_result"
    }
   ],
   "source": [
    "timeit.timeit(lambda: cdflib_list_variables('/tmp/cdfpp/po_h9_pwi_1997010103_v01.cdf'), number=10000)"
   ]
  },
  {
   "cell_type": "code",
   "execution_count": 9,
   "id": "7d75b382-c251-430e-ba33-b8c71e2dd64b",
   "metadata": {},
   "outputs": [
    {
     "data": {
      "text/plain": [
       "7.060896105016582"
      ]
     },
     "execution_count": 9,
     "metadata": {},
     "output_type": "execute_result"
    }
   ],
   "source": [
    "timeit.timeit(lambda: spacepy_list_variables('/tmp/cdfpp/po_h9_pwi_1997010103_v01.cdf'), number=10000)"
   ]
  },
  {
   "cell_type": "code",
   "execution_count": null,
   "id": "3b419883-481b-4d30-b888-03f96a4ec108",
   "metadata": {},
   "outputs": [],
   "source": []
  }
 ],
 "metadata": {
  "kernelspec": {
   "display_name": "Python 3 (ipykernel)",
   "language": "python",
   "name": "python3"
  },
  "language_info": {
   "codemirror_mode": {
    "name": "ipython",
    "version": 3
   },
   "file_extension": ".py",
   "mimetype": "text/x-python",
   "name": "python",
   "nbconvert_exporter": "python",
   "pygments_lexer": "ipython3",
   "version": "3.11.4"
  }
 },
 "nbformat": 4,
 "nbformat_minor": 5
}
