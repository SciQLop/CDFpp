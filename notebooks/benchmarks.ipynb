{
 "cells": [
  {
   "cell_type": "code",
   "execution_count": 2,
   "id": "373851a0-d0f2-4c40-a2f8-4647ff7b324f",
   "metadata": {
    "tags": []
   },
   "outputs": [],
   "source": [
    "import os\n",
    "import timeit\n",
    "from datetime import timedelta\n",
    "import requests\n",
    "\n",
    "import cdflib\n",
    "import humanize\n",
    "import matplotlib.pyplot as plt\n",
    "import pycdfpp\n",
    "\n",
    "from spacepy import pycdf"
   ]
  },
  {
   "cell_type": "code",
   "execution_count": 12,
   "id": "bcc18968-bb97-40a5-8bda-dedc2188da77",
   "metadata": {
    "tags": []
   },
   "outputs": [],
   "source": [
    "def download_file(url):\n",
    "    fname  = url.split('/')[-1]\n",
    "    if not os.path.exists(f\"/tmp/cdfpp/{fname}\"):\n",
    "        with open(f\"/tmp/cdfpp/{fname}\", 'wb') as f:\n",
    "            print(f\"downloading {url}\")\n",
    "            f.write(requests.get(url).content)\n",
    "    return fname\n",
    "\n",
    "\n",
    "urls = [\n",
    "    \"https://hephaistos.lpp.polytechnique.fr/data/mirrors/CDF/test_files/po_h9_pwi_1997010103_v01.cdf\",\n",
    "    \"https://hephaistos.lpp.polytechnique.fr/data/mirrors/CDF/test_files/bigcdf_compressed.cdf\",\n",
    "    \"https://hephaistos.lpp.polytechnique.fr/data/mirrors/CDF/test_files/mms1_scm_srvy_l2_scsrvy_20190301_v2.2.0.cdf\",\n",
    "    \"https://lasp.colorado.edu/mms/sdc/public/about/browse/mms1/edp/fast/l2/dce/2022/11/mms1_edp_fast_l2_dce_20221110_v3.0.0.cdf\",\n",
    "    \"https://lasp.colorado.edu/mms/sdc/public/about/browse/mms1/fpi/fast/l2/des-dist/2022/11/mms1_fpi_fast_l2_des-dist_20221103060000_v3.4.0.cdf\",\n",
    "    \"https://cdaweb.gsfc.nasa.gov/pub/data/solar-orbiter/rpw/science/l3/bia-efield/2022/solo_l3_rpw-bia-efield_20221118_v01.cdf\",\n",
    "    \"https://cdaweb.gsfc.nasa.gov/pub/data/solar-orbiter/rpw/science/l3/bia-efield/2022/solo_l3_rpw-bia-efield_20221108_v01.cdf\",\n",
    "    \"https://cdaweb.gsfc.nasa.gov/pub/data/solar-orbiter/rpw/science/l3/bia-efield/2022/solo_l3_rpw-bia-efield_20221027_v01.cdf\",\n",
    "    \"https://cdaweb.gsfc.nasa.gov/pub/data/solar-orbiter/rpw/science/l3/bia-efield/2022/solo_l3_rpw-bia-efield_20221129_v01.cdf\",\n",
    "    \"https://cdaweb.gsfc.nasa.gov/pub/data/solar-orbiter/rpw/science/l3/bia-efield/2022/solo_l3_rpw-bia-efield_20221023_v01.cdf\",\n",
    "    \"https://cdaweb.gsfc.nasa.gov/pub/data/solar-orbiter/rpw/science/l3/bia-efield/2022/solo_l3_rpw-bia-efield_20221003_v01.cdf\",\n",
    "    \"https://cdaweb.gsfc.nasa.gov/pub/data/solar-orbiter/rpw/science/l3/bia-efield/2022/solo_l3_rpw-bia-efield_20220906_v01.cdf\"\n",
    "]\n",
    "\n",
    "cdf_corpus = list(map(lambda u: f\"/tmp/cdfpp/{u.split('/')[-1]}\", urls))"
   ]
  },
  {
   "cell_type": "code",
   "execution_count": 13,
   "id": "bd9143e8-bc2e-4fb2-b7df-8e44501af64b",
   "metadata": {
    "tags": []
   },
   "outputs": [
    {
     "name": "stdout",
     "output_type": "stream",
     "text": [
      "downloading https://cdaweb.gsfc.nasa.gov/pub/data/solar-orbiter/rpw/science/l3/bia-efield/2022/solo_l3_rpw-bia-efield_20221129_v01.cdf\n",
      "downloading https://cdaweb.gsfc.nasa.gov/pub/data/solar-orbiter/rpw/science/l3/bia-efield/2022/solo_l3_rpw-bia-efield_20221023_v01.cdf\n",
      "downloading https://cdaweb.gsfc.nasa.gov/pub/data/solar-orbiter/rpw/science/l3/bia-efield/2022/solo_l3_rpw-bia-efield_20221003_v01.cdf\n",
      "downloading https://cdaweb.gsfc.nasa.gov/pub/data/solar-orbiter/rpw/science/l3/bia-efield/2022/solo_l3_rpw-bia-efield_20220906_v01.cdf\n"
     ]
    },
    {
     "data": {
      "text/plain": [
       "['po_h9_pwi_1997010103_v01.cdf',\n",
       " 'bigcdf_compressed.cdf',\n",
       " 'mms1_scm_srvy_l2_scsrvy_20190301_v2.2.0.cdf',\n",
       " 'mms1_edp_fast_l2_dce_20221110_v3.0.0.cdf',\n",
       " 'mms1_fpi_fast_l2_des-dist_20221103060000_v3.4.0.cdf',\n",
       " 'solo_l3_rpw-bia-efield_20221118_v01.cdf',\n",
       " 'solo_l3_rpw-bia-efield_20221108_v01.cdf',\n",
       " 'solo_l3_rpw-bia-efield_20221027_v01.cdf',\n",
       " 'solo_l3_rpw-bia-efield_20221129_v01.cdf',\n",
       " 'solo_l3_rpw-bia-efield_20221023_v01.cdf',\n",
       " 'solo_l3_rpw-bia-efield_20221003_v01.cdf',\n",
       " 'solo_l3_rpw-bia-efield_20220906_v01.cdf']"
      ]
     },
     "execution_count": 13,
     "metadata": {},
     "output_type": "execute_result"
    }
   ],
   "source": [
    "list(map(download_file, urls))"
   ]
  },
  {
   "cell_type": "code",
   "execution_count": 5,
   "id": "2b284a3c-f88e-4330-8232-9f7ae5dd7c06",
   "metadata": {
    "tags": []
   },
   "outputs": [],
   "source": [
    "class CdfLib:\n",
    "    @staticmethod\n",
    "    def just_open(fname):\n",
    "        c = cdflib.CDF(fname)\n",
    "\n",
    "    @staticmethod\n",
    "    def list_variables(fname):\n",
    "        c = cdflib.CDF(fname)\n",
    "        cdf_info = c.cdf_info()\n",
    "        variables = cdf_info.rVariables + cdf_info.zVariables\n",
    "\n",
    "    @staticmethod\n",
    "    def get_var_shape(fname, varname):\n",
    "        shape = cdflib.CDF(fname).varinq(varname).Dim_Sizes\n",
    "\n",
    "    @staticmethod\n",
    "    def get_var_data(fname, varname, ntimes=1):\n",
    "        c = cdflib.CDF(fname)\n",
    "        for _ in range(ntimes):\n",
    "            values = c.varget(varname)\n",
    "\n",
    "\n",
    "class SpacePy:\n",
    "    @staticmethod\n",
    "    def just_open(fname):\n",
    "        c = pycdf.CDF(fname)\n",
    "\n",
    "    @staticmethod\n",
    "    def list_variables(fname):\n",
    "        variables = list(pycdf.CDF(fname))\n",
    "\n",
    "    @staticmethod\n",
    "    def get_var_shape(fname, varname):\n",
    "        shape = pycdf.CDF(fname)[varname].shape\n",
    "\n",
    "    @staticmethod\n",
    "    def get_var_data(fname, varname, ntimes=1):\n",
    "        c = pycdf.CDF(fname)\n",
    "        for _ in range(ntimes):\n",
    "            values = c[varname][:]\n",
    "\n",
    "\n",
    "class PyCdfPp:\n",
    "    @staticmethod\n",
    "    def just_open(fname):\n",
    "        c = pycdfpp.load(fname)\n",
    "\n",
    "    @staticmethod\n",
    "    def list_variables(fname):\n",
    "        variables = list(pycdfpp.load(fname))\n",
    "\n",
    "    @staticmethod\n",
    "    def get_var_shape(fname, varname):\n",
    "        shape = pycdfpp.load(fname)[varname].shape\n",
    "\n",
    "    @staticmethod\n",
    "    def get_var_data(fname, varname, ntimes=1):\n",
    "        c = pycdfpp.load(fname)\n",
    "        for _ in range(ntimes):\n",
    "            values = c[varname].values"
   ]
  },
  {
   "cell_type": "code",
   "execution_count": 6,
   "id": "cca372d4-39d5-4812-b790-d8fa00f12673",
   "metadata": {
    "tags": []
   },
   "outputs": [],
   "source": [
    "def bench_method(method, cdf_file, number=1000, **kwargs):\n",
    "    return dict(\n",
    "        sorted(\n",
    "            [\n",
    "                (\n",
    "                    lib.__name__,\n",
    "                    timeit.timeit(\n",
    "                        lambda: getattr(lib, method)(cdf_file, **kwargs), number=number\n",
    "                    )\n",
    "                    / number,\n",
    "                )\n",
    "                for lib in (CdfLib, SpacePy, PyCdfPp)\n",
    "            ],\n",
    "            key=lambda item: item[1],\n",
    "        )\n",
    "    )"
   ]
  },
  {
   "cell_type": "code",
   "execution_count": 14,
   "id": "5d8d37cc-cb6a-441f-b4dc-642a289c7e92",
   "metadata": {
    "tags": []
   },
   "outputs": [
    {
     "name": "stdout",
     "output_type": "stream",
     "text": [
      "/tmp/cdfpp/po_h9_pwi_1997010103_v01.cdf: {'PyCdfPp': 0.00017465760001869057, 'CdfLib': 0.00019743439997910173, 'SpacePy': 0.0013674771999831136}\n",
      "/tmp/cdfpp/bigcdf_compressed.cdf: {'PyCdfPp': 4.1726400013430975e-05, 'CdfLib': 9.148350000032224e-05, 'SpacePy': 0.006317985600071551}\n",
      "/tmp/cdfpp/mms1_scm_srvy_l2_scsrvy_20190301_v2.2.0.cdf: {'PyCdfPp': 7.444359998771688e-05, 'CdfLib': 0.0001286544999857142, 'SpacePy': 0.07488809540000148}\n",
      "/tmp/cdfpp/mms1_edp_fast_l2_dce_20221110_v3.0.0.cdf: {'CdfLib': 6.978670007811161e-05, 'PyCdfPp': 0.00016974700001810562, 'SpacePy': 0.35710396820004464}\n",
      "/tmp/cdfpp/mms1_fpi_fast_l2_des-dist_20221103060000_v3.4.0.cdf: {'CdfLib': 7.033869997030706e-05, 'PyCdfPp': 0.00016071110003395005, 'SpacePy': 0.22939853950001635}\n",
      "/tmp/cdfpp/solo_l3_rpw-bia-efield_20221118_v01.cdf: {'CdfLib': 7.315900002140552e-05, 'PyCdfPp': 0.00010246440006085322, 'SpacePy': 0.3560861213999488}\n",
      "/tmp/cdfpp/solo_l3_rpw-bia-efield_20221108_v01.cdf: {'CdfLib': 7.064419996822835e-05, 'PyCdfPp': 9.176680005111848e-05, 'SpacePy': 0.00401828909998585}\n",
      "/tmp/cdfpp/solo_l3_rpw-bia-efield_20221027_v01.cdf: {'CdfLib': 5.019330001232447e-05, 'PyCdfPp': 9.531309997328208e-05, 'SpacePy': 0.030472823200034325}\n",
      "/tmp/cdfpp/solo_l3_rpw-bia-efield_20221129_v01.cdf: {'CdfLib': 6.72012999530125e-05, 'PyCdfPp': 9.709239993753727e-05, 'SpacePy': 0.20092010870002924}\n",
      "/tmp/cdfpp/solo_l3_rpw-bia-efield_20221023_v01.cdf: {'CdfLib': 6.622719993174542e-05, 'PyCdfPp': 0.00010127659998033778, 'SpacePy': 0.14411233210003047}\n",
      "/tmp/cdfpp/solo_l3_rpw-bia-efield_20221003_v01.cdf: {'CdfLib': 6.693129998893709e-05, 'PyCdfPp': 9.920590000547235e-05, 'SpacePy': 0.05182594529997005}\n",
      "/tmp/cdfpp/solo_l3_rpw-bia-efield_20220906_v01.cdf: {'CdfLib': 6.70348000312515e-05, 'PyCdfPp': 0.00010478799995325972, 'SpacePy': 0.47308974039997337}\n"
     ]
    }
   ],
   "source": [
    "for file in cdf_corpus:\n",
    "    print(f\"{file}: {bench_method('just_open', file, number=10)}\")"
   ]
  },
  {
   "cell_type": "code",
   "execution_count": 15,
   "id": "105b660c-5187-44d0-9a23-8fee9483b7f3",
   "metadata": {
    "tags": []
   },
   "outputs": [
    {
     "name": "stdout",
     "output_type": "stream",
     "text": [
      "/tmp/cdfpp/po_h9_pwi_1997010103_v01.cdf: {'PyCdfPp': 0.0004397436999170168, 'CdfLib': 0.0008901664000404708, 'SpacePy': 0.0019434917000580754}\n",
      "/tmp/cdfpp/bigcdf_compressed.cdf: {'PyCdfPp': 4.000930002803216e-05, 'CdfLib': 0.00018436990003465326, 'SpacePy': 0.007342753300054028}\n",
      "/tmp/cdfpp/mms1_scm_srvy_l2_scsrvy_20190301_v2.2.0.cdf: {'PyCdfPp': 9.068869994734995e-05, 'CdfLib': 0.000554038300015236, 'SpacePy': 0.07428468980006073}\n",
      "/tmp/cdfpp/mms1_edp_fast_l2_dce_20221110_v3.0.0.cdf: {'PyCdfPp': 0.00019020620002265786, 'CdfLib': 0.0003931492999981856, 'SpacePy': 0.35737519610001983}\n",
      "/tmp/cdfpp/mms1_fpi_fast_l2_des-dist_20221103060000_v3.4.0.cdf: {'PyCdfPp': 0.00019275120002930634, 'CdfLib': 0.000519059200087213, 'SpacePy': 0.23009514280001894}\n",
      "/tmp/cdfpp/solo_l3_rpw-bia-efield_20221118_v01.cdf: {'PyCdfPp': 0.00011784670004999498, 'CdfLib': 0.0006292430999565113, 'SpacePy': 0.360084443300002}\n",
      "/tmp/cdfpp/solo_l3_rpw-bia-efield_20221108_v01.cdf: {'PyCdfPp': 0.00010691139996197308, 'CdfLib': 0.0005990220000057888, 'SpacePy': 0.004104188300061651}\n",
      "/tmp/cdfpp/solo_l3_rpw-bia-efield_20221027_v01.cdf: {'PyCdfPp': 0.00011470910003481549, 'CdfLib': 0.0005788956999822403, 'SpacePy': 0.030573599699982877}\n",
      "/tmp/cdfpp/solo_l3_rpw-bia-efield_20221129_v01.cdf: {'PyCdfPp': 0.0001154181999481807, 'CdfLib': 0.0005453186000522692, 'SpacePy': 0.20047554639995724}\n",
      "/tmp/cdfpp/solo_l3_rpw-bia-efield_20221023_v01.cdf: {'PyCdfPp': 0.00012671060003413003, 'CdfLib': 0.0006537141999615415, 'SpacePy': 0.1514767882000342}\n",
      "/tmp/cdfpp/solo_l3_rpw-bia-efield_20221003_v01.cdf: {'PyCdfPp': 0.00011715729997376911, 'CdfLib': 0.0006347640000058163, 'SpacePy': 0.05195195140004216}\n",
      "/tmp/cdfpp/solo_l3_rpw-bia-efield_20220906_v01.cdf: {'PyCdfPp': 0.00012609729992618668, 'CdfLib': 0.0005981170000268321, 'SpacePy': 0.47245743909998056}\n"
     ]
    }
   ],
   "source": [
    "for file in cdf_corpus:\n",
    "    print(f\"{file}: {bench_method('list_variables', file, number=10)}\")"
   ]
  },
  {
   "cell_type": "code",
   "execution_count": 9,
   "id": "3b419883-481b-4d30-b888-03f96a4ec108",
   "metadata": {
    "tags": []
   },
   "outputs": [
    {
     "data": {
      "text/plain": [
       "{'CdfLib': 0.00010431646050001291,\n",
       " 'PyCdfPp': 0.00013730515209999793,\n",
       " 'SpacePy': 0.000916535619699971}"
      ]
     },
     "execution_count": 9,
     "metadata": {},
     "output_type": "execute_result"
    }
   ],
   "source": [
    "bench_method(\n",
    "    \"get_var_shape\",\n",
    "    \"/tmp/cdfpp/po_h9_pwi_1997010103_v01.cdf\",\n",
    "    varname=\"WBR_Elec\",\n",
    "    number=10000,\n",
    ")"
   ]
  },
  {
   "cell_type": "code",
   "execution_count": 10,
   "id": "66c09a8e-2d50-40c8-a748-c00466986366",
   "metadata": {
    "tags": []
   },
   "outputs": [
    {
     "data": {
      "text/plain": [
       "{'PyCdfPp': 0.3873259066000173,\n",
       " 'SpacePy': 2.494506395299959,\n",
       " 'CdfLib': 2.5678414205999616}"
      ]
     },
     "execution_count": 10,
     "metadata": {},
     "output_type": "execute_result"
    }
   ],
   "source": [
    "bench_method(\n",
    "    \"get_var_data\",\n",
    "    \"/tmp/cdfpp/po_h9_pwi_1997010103_v01.cdf\",\n",
    "    varname=\"WBR_Elec\",\n",
    "    number=10,\n",
    ")"
   ]
  },
  {
   "cell_type": "code",
   "execution_count": 11,
   "id": "9d155285-3a55-4339-856b-524957608b06",
   "metadata": {
    "tags": []
   },
   "outputs": [
    {
     "data": {
      "text/plain": [
       "{'PyCdfPp': 0.40094440350003424,\n",
       " 'CdfLib': 7.95899667499998,\n",
       " 'SpacePy': 7.966956516499977}"
      ]
     },
     "execution_count": 11,
     "metadata": {},
     "output_type": "execute_result"
    }
   ],
   "source": [
    "bench_method(\n",
    "    \"get_var_data\",\n",
    "    \"/tmp/cdfpp/po_h9_pwi_1997010103_v01.cdf\",\n",
    "    varname=\"WBR_Elec\",\n",
    "    ntimes=3,\n",
    "    number=2,\n",
    ")"
   ]
  },
  {
   "cell_type": "code",
   "execution_count": 56,
   "id": "d76a8aa5-e301-46a4-bc0f-34ccdad2f103",
   "metadata": {},
   "outputs": [
    {
     "data": {
      "text/plain": [
       "CDF:\n",
       "version: 2.6.2\n",
       "majority: row\n",
       "\n",
       "Attributes:\n",
       "\tRules_of_use: \" \"\n",
       "\tAcknowledgement: \" \"\n",
       "\tHTTP_LINK: [ [ \"http://www-pw.physics.uiowa.edu/plasma-wave/istp/polar/home.html\", \"http:/www-pw.physics.uiowa.edu/plasma-wave/istp/polar/interpretation.html\" ] ]\n",
       "\tTEXT_supplement_1: \" \"\n",
       "\tTime_resolution: \"1.0/Sample_rate\"\n",
       "\tGenerated_by: \" \"\n",
       "\tMission_group: \"Polar\"\n",
       "\tTITLE: \"POLAR PWI WBR\"\n",
       "\tProject: \"ISTP>International Solar-Terrestrial Physics\"\n",
       "\tDiscipline: \"Space Physics>Magnetospheric Science\"\n",
       "\tInstrument_type: \"Radio and Plasma Waves (space)\"\n",
       "\tMODS: \"Created Dec 2003\"\n",
       "\tLINK_TEXT: \" \"\n",
       "\tLINK_TITLE: \" \"\n",
       "\tGeneration_date: \"20 April, 2004\"\n",
       "\tData_type: \"H9>High Resolution Data\"\n",
       "\tLogical_source_description: \"Polar Plasma Wave Instrument, High Frequency Waveform Receiver\"\n",
       "\tDescriptor: \"PWI>Plasma Wave Instrument\"\n",
       "\tData_version: \"1\"\n",
       "\tLogical_file_id: \"PO_H9_PWI_1996032614_V01\"\n",
       "\tTEXT: [ [ \"Reference:..Gurnett, D.A. et al, The Polar plasma wave instrument, Space Science Reviews, Vol. 71, pp. 597-622, 1995.GURNETT@IOWAVE.physics.uiowa.edu\", \"An FFT on 1992 values was used in calibrating the data; i.e., perform FFT, calibrate in frequency domain, perform inverse FFT to get calibrated time series.\", \"Effective Bandwidth is 1.5*delta_f, where delta_f depends on the size of the FFT used to convert to the frequency domain, and delta_t.\", \"Coordinate system used:  antenna coordinate system, where the u-axis is offset by -45 degrees from the spacecraft x-axis, the v-axis is offset by -45 degrees from the spacecraft y-axis, and the z-axis is identical to the spacecraft z-axis.\", \"This data comes in snapshots of 1992 or 3984 points every 0.064 seconds.  Duration of a snapshot is less when the instrument is in duty cycle modes.  Since Epoch time is in milliseconds, the times for the data points will not be unique unless the fmsec (fraction of milliseconds) is appended to the Epoch0 time for that point.\", \"The frequency filters used for the wideband receiver have a range that limits the calibration.  The following table specifies the range of frequencies for which the calibration is certified.  Outside this range the amplitude values may be in error and should not be used.  (Translation, Filter, Freq Range) (0 kHz, 90 kHz, 7.5 kHz-90.0 kHz) (125 kHz, 90 kHz, 131.9 kHz-214.8 kHz) (250 kHz, 90 kHz, 254.3 kHz-341.2 kHz) (500 kHz, 90 kHz, 504.79 kHz-591.1 kHz) (0 kHz, 10 kHz, 0.035 kHz-11.64 kHz) (0 kHz, 22 kHz, 0.065 kHz-21.59 kHz) (0 kHz, 1-3 kHz, 1.0 kHz-3.0 kHz) (0 kHz, 3-6 kHz, 3.0 kHz-6.0 kHz) \" ] ]\n",
       "\tPI_affiliation: \"U. Iowa\"\n",
       "\tADID_ref: \"NSSD0171\"\n",
       "\tPI_name: \"D. Gurnett\"\n",
       "\tSource_name: \"POLAR>Polar Plasma Laboratory\"\n",
       "\tLogical_source: \"PO_H9_PWI\"\n",
       "\n",
       "Variables:\n",
       "\tData_No: ([ 1, 3984 ]) [CDF_INT1]\n",
       "\tFFT_size: ([ 1 ]) [CDF_INT1]\n",
       "\tNum_Snap: ([ 1 ]) [CDF_INT1]\n",
       "\tEpoch: ([ 42506 ]) [CDF_EPOCH]\n",
       "\tTranslation: ([ 42506 ]) [CDF_INT1]\n",
       "\tNumPoints: ([ 42506 ]) [CDF_INT1]\n",
       "\tDelta_T: ([ 42506 ]) [CDF_REAL8]\n",
       "\tWBR_Elec: ([ 42506, 3984 ]) [CDF_REAL4]\n",
       "\tDATA_QUALITY: ([ 42506, 3984 ]) [CDF_BYTE]\n",
       "\tSample_rate: ([ 42506 ]) [CDF_REAL4]\n",
       "\tFilterMode: ([ 42506 ]) [CDF_BYTE]\n",
       "\tGain2: ([ 42506 ]) [CDF_BYTE]\n",
       "\tDATA_MODE: ([ 42506 ]) [CDF_BYTE]\n",
       "\tGain1: ([ 42506 ]) [CDF_BYTE]\n",
       "\tWBR_Ant: ([ 42506 ]) [CDF_BYTE]\n",
       "\tWBR_Mag: ([ 1, 3984 ]) [CDF_REAL4]\n"
      ]
     },
     "execution_count": 56,
     "metadata": {},
     "output_type": "execute_result"
    }
   ],
   "source": [
    "pycdfpp.load(fname)"
   ]
  },
  {
   "cell_type": "code",
   "execution_count": 21,
   "id": "2588c1ec-6f35-4d30-9d0c-ed392ac04d03",
   "metadata": {
    "tags": []
   },
   "outputs": [
    {
     "data": {
      "text/plain": [
       "<matplotlib.collections.PathCollection at 0x7fc5b0227190>"
      ]
     },
     "execution_count": 21,
     "metadata": {},
     "output_type": "execute_result"
    },
    {
     "data": {
      "image/png": "[encoded data removed]",
      "text/plain": [
       "<Figure size 640x480 with 1 Axes>"
      ]
     },
     "metadata": {},
     "output_type": "display_data"
    }
   ],
   "source": [
    "times = []\n",
    "sizes = []\n",
    "for f in cdf_corpus:\n",
    "    t=timeit.timeit(lambda:pycdfpp.load(f, lazy_load=False), number=10)/10\n",
    "    times.append(t)\n",
    "    sizes.append(len(open(f,'rb').read()))\n",
    "    \n",
    "plt.figure()\n",
    "plt.scatter(sizes,times)"
   ]
  },
  {
   "cell_type": "code",
   "execution_count": null,
   "id": "5a4a9d67-eb41-47ae-a486-02559eaa3138",
   "metadata": {},
   "outputs": [],
   "source": []
  }
 ],
 "metadata": {
  "kernelspec": {
   "display_name": "Python 3 (ipykernel)",
   "language": "python",
   "name": "python3"
  },
  "language_info": {
   "codemirror_mode": {
    "name": "ipython",
    "version": 3
   },
   "file_extension": ".py",
   "mimetype": "text/x-python",
   "name": "python",
   "nbconvert_exporter": "python",
   "pygments_lexer": "ipython3",
   "version": "3.11.4"
  }
 },
 "nbformat": 4,
 "nbformat_minor": 5
}
