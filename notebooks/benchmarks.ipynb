{
 "cells": [
  {
   "cell_type": "code",
   "execution_count": 1,
   "id": "373851a0-d0f2-4c40-a2f8-4647ff7b324f",
   "metadata": {
    "tags": []
   },
   "outputs": [],
   "source": [
    "import os\n",
    "import timeit\n",
    "from datetime import datetime, timedelta\n",
    "from types import SimpleNamespace\n",
    "\n",
    "import cdflib\n",
    "import humanize\n",
    "import matplotlib.pyplot as plt\n",
    "import numpy as np\n",
    "import pycdfpp\n",
    "import requests\n",
    "from spacepy import pycdf\n",
    "\n",
    "SMALL_SIZE = 16\n",
    "MEDIUM_SIZE = 22\n",
    "BIGGER_SIZE = 28\n",
    "\n",
    "plt.rc(\"font\", size=SMALL_SIZE)  # controls default text sizes\n",
    "plt.rc(\"axes\", titlesize=SMALL_SIZE)  # fontsize of the axes title\n",
    "plt.rc(\"axes\", labelsize=MEDIUM_SIZE)  # fontsize of the x and y labels\n",
    "plt.rc(\"xtick\", labelsize=SMALL_SIZE)  # fontsize of the tick labels\n",
    "plt.rc(\"ytick\", labelsize=SMALL_SIZE)  # fontsize of the tick labels\n",
    "plt.rc(\"legend\", fontsize=SMALL_SIZE)  # legend fontsize\n",
    "plt.rc(\"figure\", titlesize=BIGGER_SIZE)  # fontsize of the figure title"
   ]
  },
  {
   "cell_type": "code",
   "execution_count": 2,
   "id": "bcc18968-bb97-40a5-8bda-dedc2188da77",
   "metadata": {
    "tags": []
   },
   "outputs": [],
   "source": [
    "def download_file(url):\n",
    "    fname = url.split(\"/\")[-1]\n",
    "    if not os.path.exists(f\"/tmp/cdfpp/{fname}\"):\n",
    "        with open(f\"/tmp/cdfpp/{fname}\", \"wb\") as f:\n",
    "            print(f\"downloading {url}\")\n",
    "            f.write(requests.get(url).content)\n",
    "    return fname\n",
    "\n",
    "\n",
    "def is_compressed(fname):\n",
    "    return (\n",
    "        pycdfpp.load(fname).compression != pycdfpp.CDF_compression_type.no_compression\n",
    "    )\n",
    "\n",
    "\n",
    "def file_size(fname):\n",
    "    return os.stat(fname).st_size\n",
    "\n",
    "\n",
    "urls = [\n",
    "    \"https://hephaistos.lpp.polytechnique.fr/data/mirrors/CDF/test_files/po_h9_pwi_1997010103_v01.cdf\",\n",
    "    # \"https://hephaistos.lpp.polytechnique.fr/data/mirrors/CDF/test_files/bigcdf_compressed.cdf\",\n",
    "    \"https://hephaistos.lpp.polytechnique.fr/data/mirrors/CDF/test_files/mms1_scm_srvy_l2_scsrvy_20190301_v2.2.0.cdf\",\n",
    "    \"https://lasp.colorado.edu/mms/sdc/public/about/browse/mms1/edp/fast/l2/dce/2022/11/mms1_edp_fast_l2_dce_20221110_v3.0.0.cdf\",\n",
    "    \"https://lasp.colorado.edu/mms/sdc/public/about/browse/mms1/fpi/fast/l2/des-dist/2022/11/mms1_fpi_fast_l2_des-dist_20221103060000_v3.4.0.cdf\",\n",
    "    \"https://cdaweb.gsfc.nasa.gov/pub/data/solar-orbiter/rpw/science/l3/bia-efield/2022/solo_l3_rpw-bia-efield_20221118_v01.cdf\",\n",
    "    \"https://cdaweb.gsfc.nasa.gov/pub/data/solar-orbiter/rpw/science/l3/bia-efield/2022/solo_l3_rpw-bia-efield_20221108_v01.cdf\",\n",
    "    \"https://cdaweb.gsfc.nasa.gov/pub/data/solar-orbiter/rpw/science/l3/bia-efield/2022/solo_l3_rpw-bia-efield_20221027_v01.cdf\",\n",
    "    \"https://cdaweb.gsfc.nasa.gov/pub/data/solar-orbiter/rpw/science/l3/bia-efield/2022/solo_l3_rpw-bia-efield_20221129_v01.cdf\",\n",
    "    \"https://cdaweb.gsfc.nasa.gov/pub/data/solar-orbiter/rpw/science/l3/bia-efield/2022/solo_l3_rpw-bia-efield_20221023_v01.cdf\",\n",
    "    \"https://cdaweb.gsfc.nasa.gov/pub/data/solar-orbiter/rpw/science/l3/bia-efield/2022/solo_l3_rpw-bia-efield_20221003_v01.cdf\",\n",
    "    \"https://cdaweb.gsfc.nasa.gov/pub/data/solar-orbiter/rpw/science/l3/bia-efield/2022/solo_l3_rpw-bia-efield_20220906_v01.cdf\",\n",
    "]\n",
    "\n",
    "cdf_corpus = list(map(lambda u: f\"/tmp/cdfpp/{u.split('/')[-1]}\", urls))\n",
    "\n",
    "cdf_corpus_details = {\n",
    "    fname: SimpleNamespace(\n",
    "        size=file_size(fname),\n",
    "        size_MB=file_size(fname) / 1000**2,\n",
    "        is_compressed=is_compressed(fname),\n",
    "    )\n",
    "    for fname in cdf_corpus\n",
    "}"
   ]
  },
  {
   "cell_type": "code",
   "execution_count": 3,
   "id": "bd9143e8-bc2e-4fb2-b7df-8e44501af64b",
   "metadata": {
    "tags": []
   },
   "outputs": [
    {
     "data": {
      "text/plain": [
       "['po_h9_pwi_1997010103_v01.cdf',\n",
       " 'mms1_scm_srvy_l2_scsrvy_20190301_v2.2.0.cdf',\n",
       " 'mms1_edp_fast_l2_dce_20221110_v3.0.0.cdf',\n",
       " 'mms1_fpi_fast_l2_des-dist_20221103060000_v3.4.0.cdf',\n",
       " 'solo_l3_rpw-bia-efield_20221118_v01.cdf',\n",
       " 'solo_l3_rpw-bia-efield_20221108_v01.cdf',\n",
       " 'solo_l3_rpw-bia-efield_20221027_v01.cdf',\n",
       " 'solo_l3_rpw-bia-efield_20221129_v01.cdf',\n",
       " 'solo_l3_rpw-bia-efield_20221023_v01.cdf',\n",
       " 'solo_l3_rpw-bia-efield_20221003_v01.cdf',\n",
       " 'solo_l3_rpw-bia-efield_20220906_v01.cdf']"
      ]
     },
     "execution_count": 3,
     "metadata": {},
     "output_type": "execute_result"
    }
   ],
   "source": [
    "list(map(download_file, urls))"
   ]
  },
  {
   "cell_type": "code",
   "execution_count": 4,
   "id": "2b284a3c-f88e-4330-8232-9f7ae5dd7c06",
   "metadata": {
    "tags": []
   },
   "outputs": [],
   "source": [
    "class CdfLib:\n",
    "    @staticmethod\n",
    "    def just_open(fname):\n",
    "        c = cdflib.CDF(fname)\n",
    "\n",
    "    @staticmethod\n",
    "    def list_variables(fname):\n",
    "        c = cdflib.CDF(fname)\n",
    "        cdf_info = c.cdf_info()\n",
    "        variables = cdf_info.rVariables + cdf_info.zVariables\n",
    "\n",
    "    @staticmethod\n",
    "    def get_var_shape(fname, varname):\n",
    "        shape = cdflib.CDF(fname).varinq(varname).Dim_Sizes\n",
    "\n",
    "    @staticmethod\n",
    "    def get_all_var_shapes(fname):\n",
    "        c = cdflib.CDF(fname)\n",
    "        cdf_info = c.cdf_info()\n",
    "        variables = cdf_info.rVariables + cdf_info.zVariables\n",
    "        [c.varinq(varname).Dim_Sizes for varname in variables]\n",
    "\n",
    "    @staticmethod\n",
    "    def get_var_data(fname, varname, ntimes=1):\n",
    "        c = cdflib.CDF(fname)\n",
    "        for _ in range(ntimes):\n",
    "            values = c.varget(varname)\n",
    "\n",
    "    @staticmethod\n",
    "    def full_load(fname):\n",
    "        c = cdflib.CDF(fname)\n",
    "        cdf_info = c.cdf_info()\n",
    "        variables = cdf_info.rVariables + cdf_info.zVariables\n",
    "        [c.varget(varname) for varname in variables if c.varinq(varname).Last_Rec != -1]\n",
    "\n",
    "\n",
    "class SpacePy:\n",
    "    @staticmethod\n",
    "    def just_open(fname):\n",
    "        c = pycdf.CDF(fname)\n",
    "\n",
    "    @staticmethod\n",
    "    def list_variables(fname):\n",
    "        variables = list(pycdf.CDF(fname))\n",
    "\n",
    "    @staticmethod\n",
    "    def get_var_shape(fname, varname):\n",
    "        shape = pycdf.CDF(fname)[varname].shape\n",
    "\n",
    "    @staticmethod\n",
    "    def get_all_var_shapes(fname):\n",
    "        c = pycdf.CDF(fname)\n",
    "        [c[varname].shape for varname in c]\n",
    "\n",
    "    @staticmethod\n",
    "    def get_var_data(fname, varname, ntimes=1):\n",
    "        c = pycdf.CDF(fname)\n",
    "        for _ in range(ntimes):\n",
    "            values = c[varname][:]\n",
    "\n",
    "    @staticmethod\n",
    "    def full_load(fname):\n",
    "        c = pycdf.CDF(fname)\n",
    "        [c.raw_var(varname)[:] for varname in c if len(c.raw_var(varname).shape)]\n",
    "        # [c[varname][:] for varname in c if len(c.raw_var(varname).shape)]\n",
    "\n",
    "\n",
    "class PyCdfPp:\n",
    "    @staticmethod\n",
    "    def just_open(fname):\n",
    "        c = pycdfpp.load(fname)\n",
    "\n",
    "    @staticmethod\n",
    "    def list_variables(fname):\n",
    "        variables = list(pycdfpp.load(fname))\n",
    "\n",
    "    @staticmethod\n",
    "    def get_var_shape(fname, varname):\n",
    "        shape = pycdfpp.load(fname)[varname].shape\n",
    "\n",
    "    @staticmethod\n",
    "    def get_all_var_shapes(fname):\n",
    "        c = pycdfpp.load(fname)\n",
    "        [c[varname].shape for varname in c]\n",
    "\n",
    "    @staticmethod\n",
    "    def get_var_data(fname, varname, ntimes=1):\n",
    "        c = pycdfpp.load(fname)\n",
    "        for _ in range(ntimes):\n",
    "            values = c[varname].values\n",
    "\n",
    "    @staticmethod\n",
    "    def full_load(fname):\n",
    "        c = pycdfpp.load(fname)\n",
    "        [c[varname].values for varname in c]\n",
    "\n",
    "\n",
    "CDF_libs = {\"CdfLib\": CdfLib, \"SpacePy\": SpacePy, \"PyCdfPp\": PyCdfPp}"
   ]
  },
  {
   "cell_type": "code",
   "execution_count": 5,
   "id": "cca372d4-39d5-4812-b790-d8fa00f12673",
   "metadata": {
    "tags": []
   },
   "outputs": [],
   "source": [
    "def bench_method(method, cdf_file, number=1000, **kwargs):\n",
    "    return dict(\n",
    "        sorted(\n",
    "            [\n",
    "                (\n",
    "                    lib.__name__,\n",
    "                    timeit.timeit(\n",
    "                        lambda: getattr(lib, method)(cdf_file, **kwargs), number=number\n",
    "                    )\n",
    "                    / number,\n",
    "                )\n",
    "                for lib in (CdfLib, SpacePy, PyCdfPp)\n",
    "            ],\n",
    "            key=lambda item: item[1],\n",
    "        )\n",
    "    )"
   ]
  },
  {
   "cell_type": "markdown",
   "id": "853962b5-8cf5-4d3e-aed9-ee89a3f3fa72",
   "metadata": {},
   "source": [
    "# File open speed\n",
    "\n",
    "Here we only load the file not requesting anything else, implementations doing the less(lazy loading) are expected to be faster."
   ]
  },
  {
   "cell_type": "code",
   "execution_count": 6,
   "id": "5d8d37cc-cb6a-441f-b4dc-642a289c7e92",
   "metadata": {
    "tags": []
   },
   "outputs": [
    {
     "data": {
      "text/plain": [
       "{'/tmp/cdfpp/po_h9_pwi_1997010103_v01.cdf': {'CdfLib': 0.00011845019180327654,\n",
       "  'SpacePy': 0.001021269499324262,\n",
       "  'PyCdfPp': 0.005598496901802719},\n",
       " '/tmp/cdfpp/mms1_scm_srvy_l2_scsrvy_20190301_v2.2.0.cdf': {'CdfLib': 5.003388505429029e-05,\n",
       "  'PyCdfPp': 0.0023391216062009336,\n",
       "  'SpacePy': 0.06324282709974796},\n",
       " '/tmp/cdfpp/mms1_edp_fast_l2_dce_20221110_v3.0.0.cdf': {'CdfLib': 4.88409074023366e-05,\n",
       "  'PyCdfPp': 0.005655815009959042,\n",
       "  'SpacePy': 0.313189458521083},\n",
       " '/tmp/cdfpp/mms1_fpi_fast_l2_des-dist_20221103060000_v3.4.0.cdf': {'CdfLib': 5.1179900765419006e-05,\n",
       "  'PyCdfPp': 0.0061527339043095704,\n",
       "  'SpacePy': 0.19972258929628878},\n",
       " '/tmp/cdfpp/solo_l3_rpw-bia-efield_20221118_v01.cdf': {'CdfLib': 4.657790996134281e-05,\n",
       "  'PyCdfPp': 0.00287203430198133,\n",
       "  'SpacePy': 0.3076212471816689},\n",
       " '/tmp/cdfpp/solo_l3_rpw-bia-efield_20221108_v01.cdf': {'CdfLib': 4.621290136128664e-05,\n",
       "  'PyCdfPp': 0.0026543092913925647,\n",
       "  'SpacePy': 0.0034599430160596966},\n",
       " '/tmp/cdfpp/solo_l3_rpw-bia-efield_20221027_v01.cdf': {'CdfLib': 4.1047693230211735e-05,\n",
       "  'PyCdfPp': 0.003130631009116769,\n",
       "  'SpacePy': 0.025527549698017536},\n",
       " '/tmp/cdfpp/solo_l3_rpw-bia-efield_20221129_v01.cdf': {'CdfLib': 4.615879151970148e-05,\n",
       "  'PyCdfPp': 0.0028848025016486646,\n",
       "  'SpacePy': 0.17446693659294396},\n",
       " '/tmp/cdfpp/solo_l3_rpw-bia-efield_20221023_v01.cdf': {'CdfLib': 7.112130988389254e-05,\n",
       "  'PyCdfPp': 0.0030042757047340275,\n",
       "  'SpacePy': 0.12540584560483695},\n",
       " '/tmp/cdfpp/solo_l3_rpw-bia-efield_20221003_v01.cdf': {'CdfLib': 4.736089613288641e-05,\n",
       "  'PyCdfPp': 0.0028018160024657845,\n",
       "  'SpacePy': 0.04449625590350479},\n",
       " '/tmp/cdfpp/solo_l3_rpw-bia-efield_20220906_v01.cdf': {'CdfLib': 4.462080541998148e-05,\n",
       "  'PyCdfPp': 0.003007462713867426,\n",
       "  'SpacePy': 0.4072618838166818}}"
      ]
     },
     "execution_count": 6,
     "metadata": {},
     "output_type": "execute_result"
    }
   ],
   "source": [
    "just_open_results = {\n",
    "    file: bench_method(\"just_open\", file, number=10) for file in cdf_corpus\n",
    "}\n",
    "\n",
    "just_open_results"
   ]
  },
  {
   "cell_type": "code",
   "execution_count": 7,
   "id": "87a9d919-a8d2-47f5-bb69-9c7367a27699",
   "metadata": {},
   "outputs": [
    {
     "data": {
      "image/png": "[encoded data removed]",
      "text/plain": [
       "<Figure size 1600x1000 with 1 Axes>"
      ]
     },
     "metadata": {},
     "output_type": "display_data"
    }
   ],
   "source": [
    "plt.figure(figsize=(16, 10))\n",
    "for libname in CDF_libs.keys():\n",
    "    plt.hist([res[libname] for res in just_open_results.values()], label=libname)\n",
    "plt.semilogx()\n",
    "plt.xlabel(\"Open time (s)\")\n",
    "plt.suptitle(\"\")\n",
    "plt.legend(loc=\"upper right\")\n",
    "plt.show()"
   ]
  },
  {
   "cell_type": "markdown",
   "id": "cbfa18e6-ef8f-4aa0-a05f-8e2941f167e1",
   "metadata": {},
   "source": [
    "# Variable list\n",
    "\n",
    "We only list variables names without requesting values"
   ]
  },
  {
   "cell_type": "code",
   "execution_count": 8,
   "id": "105b660c-5187-44d0-9a23-8fee9483b7f3",
   "metadata": {
    "tags": []
   },
   "outputs": [
    {
     "data": {
      "text/plain": [
       "{'/tmp/cdfpp/po_h9_pwi_1997010103_v01.cdf': {'CdfLib': 0.00022946821991354227,\n",
       "  'SpacePy': 0.0006951536983251571,\n",
       "  'PyCdfPp': 0.0008847301127389073},\n",
       " '/tmp/cdfpp/mms1_scm_srvy_l2_scsrvy_20190301_v2.2.0.cdf': {'PyCdfPp': 0.00025381059385836123,\n",
       "  'CdfLib': 0.00028938129544258117,\n",
       "  'SpacePy': 0.06307638809084892},\n",
       " '/tmp/cdfpp/mms1_edp_fast_l2_dce_20221110_v3.0.0.cdf': {'CdfLib': 0.00028879819437861444,\n",
       "  'PyCdfPp': 0.0006846284959465265,\n",
       "  'SpacePy': 0.3145281167933717},\n",
       " '/tmp/cdfpp/mms1_fpi_fast_l2_des-dist_20221103060000_v3.4.0.cdf': {'CdfLib': 0.0003594706067815423,\n",
       "  'PyCdfPp': 0.0007522297091782093,\n",
       "  'SpacePy': 0.20126984638627618},\n",
       " '/tmp/cdfpp/solo_l3_rpw-bia-efield_20221118_v01.cdf': {'PyCdfPp': 0.0003237068885937333,\n",
       "  'CdfLib': 0.0004215647000819445,\n",
       "  'SpacePy': 0.3095048444112763},\n",
       " '/tmp/cdfpp/solo_l3_rpw-bia-efield_20221108_v01.cdf': {'PyCdfPp': 0.00030619860626757145,\n",
       "  'CdfLib': 0.00041078440845012667,\n",
       "  'SpacePy': 0.003462389996275306},\n",
       " '/tmp/cdfpp/solo_l3_rpw-bia-efield_20221027_v01.cdf': {'PyCdfPp': 0.00032571989577263595,\n",
       "  'CdfLib': 0.0004101575119420886,\n",
       "  'SpacePy': 0.02510859400499612},\n",
       " '/tmp/cdfpp/solo_l3_rpw-bia-efield_20221129_v01.cdf': {'PyCdfPp': 0.0003211708040907979,\n",
       "  'CdfLib': 0.0003705057082697749,\n",
       "  'SpacePy': 0.17351445120293646},\n",
       " '/tmp/cdfpp/solo_l3_rpw-bia-efield_20221023_v01.cdf': {'PyCdfPp': 0.00033678410109132527,\n",
       "  'CdfLib': 0.0004193417029455304,\n",
       "  'SpacePy': 0.12635163578670472},\n",
       " '/tmp/cdfpp/solo_l3_rpw-bia-efield_20221003_v01.cdf': {'PyCdfPp': 0.00033227510284632443,\n",
       "  'CdfLib': 0.0004343678941950202,\n",
       "  'SpacePy': 0.04504264679271728},\n",
       " '/tmp/cdfpp/solo_l3_rpw-bia-efield_20220906_v01.cdf': {'PyCdfPp': 0.0003267328953370452,\n",
       "  'CdfLib': 0.0004221636103466153,\n",
       "  'SpacePy': 0.40871957631316036}}"
      ]
     },
     "execution_count": 8,
     "metadata": {},
     "output_type": "execute_result"
    }
   ],
   "source": [
    "list_variables_results = {\n",
    "    file: bench_method(\"list_variables\", file, number=10) for file in cdf_corpus\n",
    "}\n",
    "\n",
    "list_variables_results"
   ]
  },
  {
   "cell_type": "code",
   "execution_count": 9,
   "id": "d1ceda90-33be-43f5-82af-3ff6d09fe61a",
   "metadata": {},
   "outputs": [
    {
     "data": {
      "image/png": "[encoded data removed]",
      "text/plain": [
       "<Figure size 1600x1000 with 1 Axes>"
      ]
     },
     "metadata": {},
     "output_type": "display_data"
    }
   ],
   "source": [
    "plt.figure(figsize=(16, 10))\n",
    "for libname in CDF_libs.keys():\n",
    "    plt.hist([res[libname] for res in list_variables_results.values()], label=libname)\n",
    "plt.semilogx()\n",
    "plt.xlabel(\"Variable list time (s)\")\n",
    "plt.suptitle(\"\")\n",
    "plt.legend(loc=\"upper right\")\n",
    "plt.show()"
   ]
  },
  {
   "cell_type": "markdown",
   "id": "23b58863-2986-4313-94bc-2c9c64cc2aab",
   "metadata": {},
   "source": [
    "# Variables shapes list\n",
    "\n",
    "We only list variables shapes without requesting variables values"
   ]
  },
  {
   "cell_type": "code",
   "execution_count": 10,
   "id": "b2551651-ce22-4f38-aa86-de808a8dd173",
   "metadata": {},
   "outputs": [
    {
     "data": {
      "text/plain": [
       "{'/tmp/cdfpp/po_h9_pwi_1997010103_v01.cdf': {'PyCdfPp': 0.0005290796048939228,\n",
       "  'CdfLib': 0.0006277394015341998,\n",
       "  'SpacePy': 0.0009338100207969546},\n",
       " '/tmp/cdfpp/mms1_scm_srvy_l2_scsrvy_20190301_v2.2.0.cdf': {'PyCdfPp': 0.000286058196797967,\n",
       "  'CdfLib': 0.0004298357991501689,\n",
       "  'SpacePy': 0.06398020959459245},\n",
       " '/tmp/cdfpp/mms1_edp_fast_l2_dce_20221110_v3.0.0.cdf': {'PyCdfPp': 0.0006665471941232681,\n",
       "  'CdfLib': 0.0010692064184695481,\n",
       "  'SpacePy': 0.3151076663983986},\n",
       " '/tmp/cdfpp/mms1_fpi_fast_l2_des-dist_20221103060000_v3.4.0.cdf': {'PyCdfPp': 0.0008280969923362136,\n",
       "  'CdfLib': 0.0010900548892095684,\n",
       "  'SpacePy': 0.1997017099056393},\n",
       " '/tmp/cdfpp/solo_l3_rpw-bia-efield_20221118_v01.cdf': {'PyCdfPp': 0.0003930801991373301,\n",
       "  'CdfLib': 0.0006177431903779506,\n",
       "  'SpacePy': 0.3162377949804068},\n",
       " '/tmp/cdfpp/solo_l3_rpw-bia-efield_20221108_v01.cdf': {'PyCdfPp': 0.00036706868559122086,\n",
       "  'CdfLib': 0.0005899507086724043,\n",
       "  'SpacePy': 0.00353370129596442},\n",
       " '/tmp/cdfpp/solo_l3_rpw-bia-efield_20221027_v01.cdf': {'PyCdfPp': 0.0003973772982135415,\n",
       "  'CdfLib': 0.0005919048096984624,\n",
       "  'SpacePy': 0.025509510305710137},\n",
       " '/tmp/cdfpp/solo_l3_rpw-bia-efield_20221129_v01.cdf': {'PyCdfPp': 0.00037529889959841967,\n",
       "  'CdfLib': 0.0005754614947363734,\n",
       "  'SpacePy': 0.17463523661717772},\n",
       " '/tmp/cdfpp/solo_l3_rpw-bia-efield_20221023_v01.cdf': {'PyCdfPp': 0.0003822909900918603,\n",
       "  'CdfLib': 0.0006082491017878056,\n",
       "  'SpacePy': 0.12827697081957012},\n",
       " '/tmp/cdfpp/solo_l3_rpw-bia-efield_20221003_v01.cdf': {'PyCdfPp': 0.0003873811103403568,\n",
       "  'CdfLib': 0.0006145481951534748,\n",
       "  'SpacePy': 0.04527891920879483},\n",
       " '/tmp/cdfpp/solo_l3_rpw-bia-efield_20220906_v01.cdf': {'PyCdfPp': 0.0003768048016354442,\n",
       "  'CdfLib': 0.0006134602008387446,\n",
       "  'SpacePy': 0.412282614200376}}"
      ]
     },
     "execution_count": 10,
     "metadata": {},
     "output_type": "execute_result"
    }
   ],
   "source": [
    "get_all_var_shapes_results = {\n",
    "    file: bench_method(\"get_all_var_shapes\", file, number=10) for file in cdf_corpus\n",
    "}\n",
    "\n",
    "get_all_var_shapes_results"
   ]
  },
  {
   "cell_type": "code",
   "execution_count": 11,
   "id": "7f44be79-1ed1-46dd-8023-bf96a837d325",
   "metadata": {},
   "outputs": [
    {
     "data": {
      "image/png": "[encoded data removed]",
      "text/plain": [
       "<Figure size 1600x1000 with 1 Axes>"
      ]
     },
     "metadata": {},
     "output_type": "display_data"
    }
   ],
   "source": [
    "plt.figure(figsize=(16, 10))\n",
    "for libname in CDF_libs.keys():\n",
    "    plt.hist(\n",
    "        [res[libname] for res in get_all_var_shapes_results.values()], label=libname\n",
    "    )\n",
    "plt.semilogx()\n",
    "plt.xlabel(\"Time to get all variables shapes (s)\")\n",
    "plt.suptitle(\"\")\n",
    "plt.legend(loc=\"upper right\")\n",
    "plt.show()"
   ]
  },
  {
   "cell_type": "markdown",
   "id": "e459e7ef-342c-4a4a-a145-8b5f10dcfafc",
   "metadata": {},
   "source": [
    "# Full CDF file loading\n",
    "We request all variables values."
   ]
  },
  {
   "cell_type": "code",
   "execution_count": 12,
   "id": "3b419883-481b-4d30-b888-03f96a4ec108",
   "metadata": {
    "tags": []
   },
   "outputs": [
    {
     "ename": "UnicodeDecodeError",
     "evalue": "'utf-8' codec can't decode byte 0xe0 in position 1: invalid continuation byte",
     "output_type": "error",
     "traceback": [
      "\u001b[0;31m---------------------------------------------------------------------------\u001b[0m",
      "\u001b[0;31mUnicodeDecodeError\u001b[0m                        Traceback (most recent call last)",
      "Cell \u001b[0;32mIn[12], line 1\u001b[0m\n\u001b[0;32m----> 1\u001b[0m full_load_results \u001b[38;5;241m=\u001b[39m \u001b[43m{\u001b[49m\n\u001b[1;32m      2\u001b[0m \u001b[43m    \u001b[49m\u001b[43mfile\u001b[49m\u001b[43m:\u001b[49m\u001b[43m \u001b[49m\u001b[43mbench_method\u001b[49m\u001b[43m(\u001b[49m\u001b[38;5;124;43m\"\u001b[39;49m\u001b[38;5;124;43mfull_load\u001b[39;49m\u001b[38;5;124;43m\"\u001b[39;49m\u001b[43m,\u001b[49m\u001b[43m \u001b[49m\u001b[43mfile\u001b[49m\u001b[43m,\u001b[49m\u001b[43m \u001b[49m\u001b[43mnumber\u001b[49m\u001b[38;5;241;43m=\u001b[39;49m\u001b[38;5;241;43m10\u001b[39;49m\u001b[43m)\u001b[49m\u001b[43m \u001b[49m\u001b[38;5;28;43;01mfor\u001b[39;49;00m\u001b[43m \u001b[49m\u001b[43mfile\u001b[49m\u001b[43m \u001b[49m\u001b[38;5;129;43;01min\u001b[39;49;00m\u001b[43m \u001b[49m\u001b[43mcdf_corpus\u001b[49m\n\u001b[1;32m      3\u001b[0m \u001b[43m}\u001b[49m\n\u001b[1;32m      5\u001b[0m full_load_results\n",
      "Cell \u001b[0;32mIn[12], line 2\u001b[0m, in \u001b[0;36m<dictcomp>\u001b[0;34m(.0)\u001b[0m\n\u001b[1;32m      1\u001b[0m full_load_results \u001b[38;5;241m=\u001b[39m {\n\u001b[0;32m----> 2\u001b[0m     file: \u001b[43mbench_method\u001b[49m\u001b[43m(\u001b[49m\u001b[38;5;124;43m\"\u001b[39;49m\u001b[38;5;124;43mfull_load\u001b[39;49m\u001b[38;5;124;43m\"\u001b[39;49m\u001b[43m,\u001b[49m\u001b[43m \u001b[49m\u001b[43mfile\u001b[49m\u001b[43m,\u001b[49m\u001b[43m \u001b[49m\u001b[43mnumber\u001b[49m\u001b[38;5;241;43m=\u001b[39;49m\u001b[38;5;241;43m10\u001b[39;49m\u001b[43m)\u001b[49m \u001b[38;5;28;01mfor\u001b[39;00m file \u001b[38;5;129;01min\u001b[39;00m cdf_corpus\n\u001b[1;32m      3\u001b[0m }\n\u001b[1;32m      5\u001b[0m full_load_results\n",
      "Cell \u001b[0;32mIn[5], line 4\u001b[0m, in \u001b[0;36mbench_method\u001b[0;34m(method, cdf_file, number, **kwargs)\u001b[0m\n\u001b[1;32m      1\u001b[0m \u001b[38;5;28;01mdef\u001b[39;00m \u001b[38;5;21mbench_method\u001b[39m(method, cdf_file, number\u001b[38;5;241m=\u001b[39m\u001b[38;5;241m1000\u001b[39m, \u001b[38;5;241m*\u001b[39m\u001b[38;5;241m*\u001b[39mkwargs):\n\u001b[1;32m      2\u001b[0m     \u001b[38;5;28;01mreturn\u001b[39;00m \u001b[38;5;28mdict\u001b[39m(\n\u001b[1;32m      3\u001b[0m         \u001b[38;5;28msorted\u001b[39m(\n\u001b[0;32m----> 4\u001b[0m             \u001b[43m[\u001b[49m\n\u001b[1;32m      5\u001b[0m \u001b[43m                \u001b[49m\u001b[43m(\u001b[49m\n\u001b[1;32m      6\u001b[0m \u001b[43m                    \u001b[49m\u001b[43mlib\u001b[49m\u001b[38;5;241;43m.\u001b[39;49m\u001b[38;5;18;43m__name__\u001b[39;49m\u001b[43m,\u001b[49m\n\u001b[1;32m      7\u001b[0m \u001b[43m                    \u001b[49m\u001b[43mtimeit\u001b[49m\u001b[38;5;241;43m.\u001b[39;49m\u001b[43mtimeit\u001b[49m\u001b[43m(\u001b[49m\n\u001b[1;32m      8\u001b[0m \u001b[43m                        \u001b[49m\u001b[38;5;28;43;01mlambda\u001b[39;49;00m\u001b[43m:\u001b[49m\u001b[43m \u001b[49m\u001b[38;5;28;43mgetattr\u001b[39;49m\u001b[43m(\u001b[49m\u001b[43mlib\u001b[49m\u001b[43m,\u001b[49m\u001b[43m \u001b[49m\u001b[43mmethod\u001b[49m\u001b[43m)\u001b[49m\u001b[43m(\u001b[49m\u001b[43mcdf_file\u001b[49m\u001b[43m,\u001b[49m\u001b[43m \u001b[49m\u001b[38;5;241;43m*\u001b[39;49m\u001b[38;5;241;43m*\u001b[39;49m\u001b[43mkwargs\u001b[49m\u001b[43m)\u001b[49m\u001b[43m,\u001b[49m\u001b[43m \u001b[49m\u001b[43mnumber\u001b[49m\u001b[38;5;241;43m=\u001b[39;49m\u001b[43mnumber\u001b[49m\n\u001b[1;32m      9\u001b[0m \u001b[43m                    \u001b[49m\u001b[43m)\u001b[49m\n\u001b[1;32m     10\u001b[0m \u001b[43m                    \u001b[49m\u001b[38;5;241;43m/\u001b[39;49m\u001b[43m \u001b[49m\u001b[43mnumber\u001b[49m\u001b[43m,\u001b[49m\n\u001b[1;32m     11\u001b[0m \u001b[43m                \u001b[49m\u001b[43m)\u001b[49m\n\u001b[1;32m     12\u001b[0m \u001b[43m                \u001b[49m\u001b[38;5;28;43;01mfor\u001b[39;49;00m\u001b[43m \u001b[49m\u001b[43mlib\u001b[49m\u001b[43m \u001b[49m\u001b[38;5;129;43;01min\u001b[39;49;00m\u001b[43m \u001b[49m\u001b[43m(\u001b[49m\u001b[43mCdfLib\u001b[49m\u001b[43m,\u001b[49m\u001b[43m \u001b[49m\u001b[43mSpacePy\u001b[49m\u001b[43m,\u001b[49m\u001b[43m \u001b[49m\u001b[43mPyCdfPp\u001b[49m\u001b[43m)\u001b[49m\n\u001b[1;32m     13\u001b[0m \u001b[43m            \u001b[49m\u001b[43m]\u001b[49m,\n\u001b[1;32m     14\u001b[0m             key\u001b[38;5;241m=\u001b[39m\u001b[38;5;28;01mlambda\u001b[39;00m item: item[\u001b[38;5;241m1\u001b[39m],\n\u001b[1;32m     15\u001b[0m         )\n\u001b[1;32m     16\u001b[0m     )\n",
      "Cell \u001b[0;32mIn[5], line 7\u001b[0m, in \u001b[0;36m<listcomp>\u001b[0;34m(.0)\u001b[0m\n\u001b[1;32m      1\u001b[0m \u001b[38;5;28;01mdef\u001b[39;00m \u001b[38;5;21mbench_method\u001b[39m(method, cdf_file, number\u001b[38;5;241m=\u001b[39m\u001b[38;5;241m1000\u001b[39m, \u001b[38;5;241m*\u001b[39m\u001b[38;5;241m*\u001b[39mkwargs):\n\u001b[1;32m      2\u001b[0m     \u001b[38;5;28;01mreturn\u001b[39;00m \u001b[38;5;28mdict\u001b[39m(\n\u001b[1;32m      3\u001b[0m         \u001b[38;5;28msorted\u001b[39m(\n\u001b[1;32m      4\u001b[0m             [\n\u001b[1;32m      5\u001b[0m                 (\n\u001b[1;32m      6\u001b[0m                     lib\u001b[38;5;241m.\u001b[39m\u001b[38;5;18m__name__\u001b[39m,\n\u001b[0;32m----> 7\u001b[0m                     \u001b[43mtimeit\u001b[49m\u001b[38;5;241;43m.\u001b[39;49m\u001b[43mtimeit\u001b[49m\u001b[43m(\u001b[49m\n\u001b[1;32m      8\u001b[0m \u001b[43m                        \u001b[49m\u001b[38;5;28;43;01mlambda\u001b[39;49;00m\u001b[43m:\u001b[49m\u001b[43m \u001b[49m\u001b[38;5;28;43mgetattr\u001b[39;49m\u001b[43m(\u001b[49m\u001b[43mlib\u001b[49m\u001b[43m,\u001b[49m\u001b[43m \u001b[49m\u001b[43mmethod\u001b[49m\u001b[43m)\u001b[49m\u001b[43m(\u001b[49m\u001b[43mcdf_file\u001b[49m\u001b[43m,\u001b[49m\u001b[43m \u001b[49m\u001b[38;5;241;43m*\u001b[39;49m\u001b[38;5;241;43m*\u001b[39;49m\u001b[43mkwargs\u001b[49m\u001b[43m)\u001b[49m\u001b[43m,\u001b[49m\u001b[43m \u001b[49m\u001b[43mnumber\u001b[49m\u001b[38;5;241;43m=\u001b[39;49m\u001b[43mnumber\u001b[49m\n\u001b[1;32m      9\u001b[0m \u001b[43m                    \u001b[49m\u001b[43m)\u001b[49m\n\u001b[1;32m     10\u001b[0m                     \u001b[38;5;241m/\u001b[39m number,\n\u001b[1;32m     11\u001b[0m                 )\n\u001b[1;32m     12\u001b[0m                 \u001b[38;5;28;01mfor\u001b[39;00m lib \u001b[38;5;129;01min\u001b[39;00m (CdfLib, SpacePy, PyCdfPp)\n\u001b[1;32m     13\u001b[0m             ],\n\u001b[1;32m     14\u001b[0m             key\u001b[38;5;241m=\u001b[39m\u001b[38;5;28;01mlambda\u001b[39;00m item: item[\u001b[38;5;241m1\u001b[39m],\n\u001b[1;32m     15\u001b[0m         )\n\u001b[1;32m     16\u001b[0m     )\n",
      "File \u001b[0;32m/usr/lib64/python3.11/timeit.py:234\u001b[0m, in \u001b[0;36mtimeit\u001b[0;34m(stmt, setup, timer, number, globals)\u001b[0m\n\u001b[1;32m    231\u001b[0m \u001b[38;5;28;01mdef\u001b[39;00m \u001b[38;5;21mtimeit\u001b[39m(stmt\u001b[38;5;241m=\u001b[39m\u001b[38;5;124m\"\u001b[39m\u001b[38;5;124mpass\u001b[39m\u001b[38;5;124m\"\u001b[39m, setup\u001b[38;5;241m=\u001b[39m\u001b[38;5;124m\"\u001b[39m\u001b[38;5;124mpass\u001b[39m\u001b[38;5;124m\"\u001b[39m, timer\u001b[38;5;241m=\u001b[39mdefault_timer,\n\u001b[1;32m    232\u001b[0m            number\u001b[38;5;241m=\u001b[39mdefault_number, \u001b[38;5;28mglobals\u001b[39m\u001b[38;5;241m=\u001b[39m\u001b[38;5;28;01mNone\u001b[39;00m):\n\u001b[1;32m    233\u001b[0m \u001b[38;5;250m    \u001b[39m\u001b[38;5;124;03m\"\"\"Convenience function to create Timer object and call timeit method.\"\"\"\u001b[39;00m\n\u001b[0;32m--> 234\u001b[0m     \u001b[38;5;28;01mreturn\u001b[39;00m \u001b[43mTimer\u001b[49m\u001b[43m(\u001b[49m\u001b[43mstmt\u001b[49m\u001b[43m,\u001b[49m\u001b[43m \u001b[49m\u001b[43msetup\u001b[49m\u001b[43m,\u001b[49m\u001b[43m \u001b[49m\u001b[43mtimer\u001b[49m\u001b[43m,\u001b[49m\u001b[43m \u001b[49m\u001b[38;5;28;43mglobals\u001b[39;49m\u001b[43m)\u001b[49m\u001b[38;5;241;43m.\u001b[39;49m\u001b[43mtimeit\u001b[49m\u001b[43m(\u001b[49m\u001b[43mnumber\u001b[49m\u001b[43m)\u001b[49m\n",
      "File \u001b[0;32m/usr/lib64/python3.11/timeit.py:178\u001b[0m, in \u001b[0;36mTimer.timeit\u001b[0;34m(self, number)\u001b[0m\n\u001b[1;32m    176\u001b[0m gc\u001b[38;5;241m.\u001b[39mdisable()\n\u001b[1;32m    177\u001b[0m \u001b[38;5;28;01mtry\u001b[39;00m:\n\u001b[0;32m--> 178\u001b[0m     timing \u001b[38;5;241m=\u001b[39m \u001b[38;5;28;43mself\u001b[39;49m\u001b[38;5;241;43m.\u001b[39;49m\u001b[43minner\u001b[49m\u001b[43m(\u001b[49m\u001b[43mit\u001b[49m\u001b[43m,\u001b[49m\u001b[43m \u001b[49m\u001b[38;5;28;43mself\u001b[39;49m\u001b[38;5;241;43m.\u001b[39;49m\u001b[43mtimer\u001b[49m\u001b[43m)\u001b[49m\n\u001b[1;32m    179\u001b[0m \u001b[38;5;28;01mfinally\u001b[39;00m:\n\u001b[1;32m    180\u001b[0m     \u001b[38;5;28;01mif\u001b[39;00m gcold:\n",
      "File \u001b[0;32m<timeit-src>:6\u001b[0m, in \u001b[0;36minner\u001b[0;34m(_it, _timer, _stmt)\u001b[0m\n",
      "Cell \u001b[0;32mIn[5], line 8\u001b[0m, in \u001b[0;36mbench_method.<locals>.<lambda>\u001b[0;34m()\u001b[0m\n\u001b[1;32m      1\u001b[0m \u001b[38;5;28;01mdef\u001b[39;00m \u001b[38;5;21mbench_method\u001b[39m(method, cdf_file, number\u001b[38;5;241m=\u001b[39m\u001b[38;5;241m1000\u001b[39m, \u001b[38;5;241m*\u001b[39m\u001b[38;5;241m*\u001b[39mkwargs):\n\u001b[1;32m      2\u001b[0m     \u001b[38;5;28;01mreturn\u001b[39;00m \u001b[38;5;28mdict\u001b[39m(\n\u001b[1;32m      3\u001b[0m         \u001b[38;5;28msorted\u001b[39m(\n\u001b[1;32m      4\u001b[0m             [\n\u001b[1;32m      5\u001b[0m                 (\n\u001b[1;32m      6\u001b[0m                     lib\u001b[38;5;241m.\u001b[39m\u001b[38;5;18m__name__\u001b[39m,\n\u001b[1;32m      7\u001b[0m                     timeit\u001b[38;5;241m.\u001b[39mtimeit(\n\u001b[0;32m----> 8\u001b[0m                         \u001b[38;5;28;01mlambda\u001b[39;00m: \u001b[38;5;28;43mgetattr\u001b[39;49m\u001b[43m(\u001b[49m\u001b[43mlib\u001b[49m\u001b[43m,\u001b[49m\u001b[43m \u001b[49m\u001b[43mmethod\u001b[49m\u001b[43m)\u001b[49m\u001b[43m(\u001b[49m\u001b[43mcdf_file\u001b[49m\u001b[43m,\u001b[49m\u001b[43m \u001b[49m\u001b[38;5;241;43m*\u001b[39;49m\u001b[38;5;241;43m*\u001b[39;49m\u001b[43mkwargs\u001b[49m\u001b[43m)\u001b[49m, number\u001b[38;5;241m=\u001b[39mnumber\n\u001b[1;32m      9\u001b[0m                     )\n\u001b[1;32m     10\u001b[0m                     \u001b[38;5;241m/\u001b[39m number,\n\u001b[1;32m     11\u001b[0m                 )\n\u001b[1;32m     12\u001b[0m                 \u001b[38;5;28;01mfor\u001b[39;00m lib \u001b[38;5;129;01min\u001b[39;00m (CdfLib, SpacePy, PyCdfPp)\n\u001b[1;32m     13\u001b[0m             ],\n\u001b[1;32m     14\u001b[0m             key\u001b[38;5;241m=\u001b[39m\u001b[38;5;28;01mlambda\u001b[39;00m item: item[\u001b[38;5;241m1\u001b[39m],\n\u001b[1;32m     15\u001b[0m         )\n\u001b[1;32m     16\u001b[0m     )\n",
      "Cell \u001b[0;32mIn[4], line 95\u001b[0m, in \u001b[0;36mPyCdfPp.full_load\u001b[0;34m(fname)\u001b[0m\n\u001b[1;32m     92\u001b[0m \u001b[38;5;129m@staticmethod\u001b[39m\n\u001b[1;32m     93\u001b[0m \u001b[38;5;28;01mdef\u001b[39;00m \u001b[38;5;21mfull_load\u001b[39m(fname):\n\u001b[1;32m     94\u001b[0m     c \u001b[38;5;241m=\u001b[39m pycdfpp\u001b[38;5;241m.\u001b[39mload(fname)\n\u001b[0;32m---> 95\u001b[0m     \u001b[43m[\u001b[49m\u001b[43mc\u001b[49m\u001b[43m[\u001b[49m\u001b[43mvarname\u001b[49m\u001b[43m]\u001b[49m\u001b[38;5;241;43m.\u001b[39;49m\u001b[43mvalues\u001b[49m\u001b[43m \u001b[49m\u001b[38;5;28;43;01mfor\u001b[39;49;00m\u001b[43m \u001b[49m\u001b[43mvarname\u001b[49m\u001b[43m \u001b[49m\u001b[38;5;129;43;01min\u001b[39;49;00m\u001b[43m \u001b[49m\u001b[43mc\u001b[49m\u001b[43m]\u001b[49m\n",
      "Cell \u001b[0;32mIn[4], line 95\u001b[0m, in \u001b[0;36m<listcomp>\u001b[0;34m(.0)\u001b[0m\n\u001b[1;32m     92\u001b[0m \u001b[38;5;129m@staticmethod\u001b[39m\n\u001b[1;32m     93\u001b[0m \u001b[38;5;28;01mdef\u001b[39;00m \u001b[38;5;21mfull_load\u001b[39m(fname):\n\u001b[1;32m     94\u001b[0m     c \u001b[38;5;241m=\u001b[39m pycdfpp\u001b[38;5;241m.\u001b[39mload(fname)\n\u001b[0;32m---> 95\u001b[0m     [\u001b[43mc\u001b[49m\u001b[43m[\u001b[49m\u001b[43mvarname\u001b[49m\u001b[43m]\u001b[49m\u001b[38;5;241;43m.\u001b[39;49m\u001b[43mvalues\u001b[49m \u001b[38;5;28;01mfor\u001b[39;00m varname \u001b[38;5;129;01min\u001b[39;00m c]\n",
      "\u001b[0;31mUnicodeDecodeError\u001b[0m: 'utf-8' codec can't decode byte 0xe0 in position 1: invalid continuation byte"
     ]
    }
   ],
   "source": [
    "full_load_results = {\n",
    "    file: bench_method(\"full_load\", file, number=10) for file in cdf_corpus\n",
    "}\n",
    "\n",
    "full_load_results"
   ]
  },
  {
   "cell_type": "code",
   "execution_count": null,
   "id": "66c09a8e-2d50-40c8-a748-c00466986366",
   "metadata": {
    "tags": []
   },
   "outputs": [],
   "source": [
    "plt.figure(figsize=(16, 10))\n",
    "for libname in CDF_libs.keys():\n",
    "    plt.hist(\n",
    "        [\n",
    "            res[libname] / cdf_corpus_details[fname].size_MB\n",
    "            for fname, res in full_load_results.items()\n",
    "        ],\n",
    "        label=libname,\n",
    "    )\n",
    "plt.semilogx()\n",
    "plt.xlabel(\"Time per mega Byte (s/MB)\")\n",
    "plt.suptitle(\"Time to load all variables values normalized by file size\")\n",
    "plt.legend(loc=\"upper right\")\n",
    "plt.show()"
   ]
  },
  {
   "cell_type": "code",
   "execution_count": null,
   "id": "6792a426-8f6a-404b-99e1-a7a43db9f02c",
   "metadata": {},
   "outputs": [],
   "source": [
    "sizes = [cdf_corpus_details[f].size / 1024**2 for f in cdf_corpus]\n",
    "\n",
    "plt.figure(figsize=(16, 10))\n",
    "for marker, libname in zip((\"*\", \"^\", \"o\"), CDF_libs):\n",
    "    plt.scatter(\n",
    "        sizes,\n",
    "        [res[libname] for res in full_load_results.values()],\n",
    "        label=libname,\n",
    "        marker=marker,\n",
    "    )\n",
    "plt.plot(sorted(sizes), np.array(sorted(sizes)) / 200, label=\"0.2GB/s\")\n",
    "plt.plot(sorted(sizes), np.array(sorted(sizes)) / 1000, label=\"1GB/s\")\n",
    "plt.plot(sorted(sizes), np.array(sorted(sizes)) / 2000, label=\"2GB/s\")\n",
    "plt.plot(sorted(sizes), np.array(sorted(sizes)) / 4000, label=\"4GB/s\")\n",
    "plt.loglog()\n",
    "plt.xlabel(\"File size (MB)\")\n",
    "plt.ylabel(\"Load time (s)\")\n",
    "plt.legend(loc=\"upper left\")\n",
    "plt.suptitle(\"CDF implementations read speed\")\n",
    "plt.show()"
   ]
  },
  {
   "cell_type": "markdown",
   "id": "4dc74493-8d4b-43c3-ba2c-8f3a9eae5125",
   "metadata": {},
   "source": [
    "# Scalability analysis\n",
    "\n",
    "While previous test shows some linear tendency, not all tests are done with the same dataset which is likely to add noise"
   ]
  },
  {
   "cell_type": "code",
   "execution_count": null,
   "id": "20673eb9-7cb6-43e7-afb1-be404a569842",
   "metadata": {},
   "outputs": [],
   "source": [
    "def create_file(\n",
    "    samples=1000, var_count=4, with_time_var=True, fname=\"/tmp/cdfpp/scalability.cdf\"\n",
    "):\n",
    "    if os.path.exists(fname):\n",
    "        os.unlink(fname)\n",
    "    cd = pycdf.CDF(fname, \"\")\n",
    "    for var in range(var_count):\n",
    "        var = cd.new(\n",
    "            f\"data_variable_{var}\",\n",
    "            data=np.cos(np.arange(samples // var_count) / 100) * 100 * var,\n",
    "            type=pycdf.const.CDF_INT4,\n",
    "        )\n",
    "        var.attrs = {\"attr1\": \"attr1_value\", \"attr2\": \"attr2_value\"}\n",
    "    if with_time_var:\n",
    "        var = cd.new(\n",
    "            f\"Epoch\",\n",
    "            data=[\n",
    "                datetime(1970, 1, 1) + timedelta(seconds=i)\n",
    "                for i in range(int(samples) // var_count)\n",
    "            ],\n",
    "            type=pycdf.const.CDF_TIME_TT2000,\n",
    "        )\n",
    "    cd.close()\n",
    "    return fname"
   ]
  },
  {
   "cell_type": "code",
   "execution_count": null,
   "id": "55e7489b-93ee-4c89-914d-bcaedf194aa1",
   "metadata": {},
   "outputs": [],
   "source": [
    "sizes = []\n",
    "times = []\n",
    "for size in np.linspace(1e5, 8e7, num=5):\n",
    "    fname = create_file(samples=size)\n",
    "    sizes.append(file_size(fname) / 1024**2)\n",
    "    times.append(bench_method(\"full_load\", fname, number=1))"
   ]
  },
  {
   "cell_type": "code",
   "execution_count": null,
   "id": "a542781e-bf8c-4d42-b400-6904621764e6",
   "metadata": {},
   "outputs": [],
   "source": [
    "plt.figure(figsize=(16, 10))\n",
    "for marker, libname in zip((\"*\", \"^\", \"o\"), CDF_libs):\n",
    "    plt.scatter(\n",
    "        sizes,\n",
    "        [res[libname] for res in times],\n",
    "        label=libname,\n",
    "        marker=marker,\n",
    "    )\n",
    "plt.plot(sorted(sizes), np.array(sorted(sizes)) / 500, label=\"0.5GB/s\")\n",
    "plt.plot(sorted(sizes), np.array(sorted(sizes)) / 2000, label=\"2GB/s\")\n",
    "plt.plot(sorted(sizes), np.array(sorted(sizes)) / 4000, label=\"4GB/s\")\n",
    "# plt.loglog()\n",
    "plt.xlabel(\"File size (MB)\")\n",
    "plt.ylabel(\"Load time (s)\")\n",
    "plt.legend(loc=\"upper left\")\n",
    "plt.suptitle(\"CDF implementations read speed\")\n",
    "plt.show()"
   ]
  },
  {
   "cell_type": "code",
   "execution_count": null,
   "id": "09dd1c7a-cdcf-4c25-88c7-d21a4568f6b6",
   "metadata": {},
   "outputs": [],
   "source": []
  }
 ],
 "metadata": {
  "kernelspec": {
   "display_name": "Python 3 (ipykernel)",
   "language": "python",
   "name": "python3"
  },
  "language_info": {
   "codemirror_mode": {
    "name": "ipython",
    "version": 3
   },
   "file_extension": ".py",
   "mimetype": "text/x-python",
   "name": "python",
   "nbconvert_exporter": "python",
   "pygments_lexer": "ipython3",
   "version": "3.11.4"
  }
 },
 "nbformat": 4,
 "nbformat_minor": 5
}
